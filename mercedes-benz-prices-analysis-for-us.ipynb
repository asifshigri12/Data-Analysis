{
 "cells": [
  {
   "cell_type": "markdown",
   "id": "94c2b17a",
   "metadata": {
    "papermill": {
     "duration": 0.010145,
     "end_time": "2024-05-18T09:34:08.478419",
     "exception": false,
     "start_time": "2024-05-18T09:34:08.468274",
     "status": "completed"
    },
    "tags": []
   },
   "source": [
    "## Analyzing Mercedes-Benz Prices in the USA: Trends and Insights USA Mercedes Benz Prices Analysis "
   ]
  },
  {
   "cell_type": "markdown",
   "id": "4e7edb44",
   "metadata": {
    "papermill": {
     "duration": 0.009518,
     "end_time": "2024-05-18T09:34:08.497893",
     "exception": false,
     "start_time": "2024-05-18T09:34:08.488375",
     "status": "completed"
    },
    "tags": []
   },
   "source": [
    "### Introduction\n",
    "\n",
    "#### About This Notebook\n",
    "This notebook explores the prices of Mercedes-Benz cars in the USA, providing insights into pricing trends and vehicle characteristics. The analysis responds to a client's inquiry, focusing on minimum and maximum prices, as well as mileage variations.\n",
    "\n",
    "#### Background\n",
    "Understanding the pricing dynamics of luxury car brands like Mercedes-Benz is crucial in the evolving automotive industry. This notebook examines a dataset with information on various Mercedes-Benz models, including mileage, ratings, review counts, prices, and model years.\n",
    "\n",
    "#### Objective\n",
    "The primary goals of this analysis are to address the following client questions:\n",
    "- **Minimum Price of a Car**: Identify the least expensive Mercedes-Benz car in the dataset.\n",
    "- **Maximum Price of a Car**: Identify the most expensive Mercedes-Benz car in the dataset.\n",
    "- **Minimum Mileage Car**: Identify the Mercedes-Benz car with the lowest mileage.\n",
    "- **Maximum Mileage Car**: Identify the Mercedes-Benz car with the highest mileage.\n",
    "\n",
    "#### Approach\n",
    "I will start by loading the dataset and performing basic data exploration to understand its structure and contents. Then, I will use descriptive statistics and data visualization techniques to answer the client's questions effectively.\n",
    "\n",
    "#### Aim of the Notebook\n",
    "By the end of this notebook, My aim is to provide valuable insights into the pricing and mileage characteristics of Mercedes-Benz cars, enabling  client to make informed decisions regarding their automotive needs in the USA market."
   ]
  },
  {
   "cell_type": "markdown",
   "id": "64a84066",
   "metadata": {
    "papermill": {
     "duration": 0.010528,
     "end_time": "2024-05-18T09:34:08.518205",
     "exception": false,
     "start_time": "2024-05-18T09:34:08.507677",
     "status": "completed"
    },
    "tags": []
   },
   "source": [
    "# Import Packages:"
   ]
  },
  {
   "cell_type": "code",
   "execution_count": 1,
   "id": "c2ca0d9c",
   "metadata": {
    "execution": {
     "iopub.execute_input": "2024-05-18T09:34:08.540886Z",
     "iopub.status.busy": "2024-05-18T09:34:08.540513Z",
     "iopub.status.idle": "2024-05-18T09:34:10.800524Z",
     "shell.execute_reply": "2024-05-18T09:34:10.799341Z"
    },
    "papermill": {
     "duration": 2.273949,
     "end_time": "2024-05-18T09:34:10.803222",
     "exception": false,
     "start_time": "2024-05-18T09:34:08.529273",
     "status": "completed"
    },
    "tags": []
   },
   "outputs": [],
   "source": [
    "import pandas as pd\n",
    "import numpy as np \n",
    "import matplotlib.pyplot as plt\n",
    "import seaborn as sns\n"
   ]
  },
  {
   "cell_type": "code",
   "execution_count": 2,
   "id": "01b09572",
   "metadata": {
    "execution": {
     "iopub.execute_input": "2024-05-18T09:34:10.825284Z",
     "iopub.status.busy": "2024-05-18T09:34:10.824796Z",
     "iopub.status.idle": "2024-05-18T09:34:10.834879Z",
     "shell.execute_reply": "2024-05-18T09:34:10.833327Z"
    },
    "papermill": {
     "duration": 0.023589,
     "end_time": "2024-05-18T09:34:10.837047",
     "exception": false,
     "start_time": "2024-05-18T09:34:10.813458",
     "status": "completed"
    },
    "tags": []
   },
   "outputs": [
    {
     "name": "stdout",
     "output_type": "stream",
     "text": [
      "/kaggle/input/usa_mercedes_benz_prices.csv\n"
     ]
    }
   ],
   "source": [
    "import re \n",
    "import os\n",
    "for dirname, _, filenames in os.walk('/kaggle/input'):\n",
    "    for filename in filenames:\n",
    "        print(os.path.join(dirname, filename))"
   ]
  },
  {
   "cell_type": "markdown",
   "id": "c5d9b8bb",
   "metadata": {
    "papermill": {
     "duration": 0.009721,
     "end_time": "2024-05-18T09:34:10.856782",
     "exception": false,
     "start_time": "2024-05-18T09:34:10.847061",
     "status": "completed"
    },
    "tags": []
   },
   "source": [
    "# Dataset Laoding:"
   ]
  },
  {
   "cell_type": "markdown",
   "id": "3ef13e5e",
   "metadata": {
    "papermill": {
     "duration": 0.009669,
     "end_time": "2024-05-18T09:34:10.876382",
     "exception": false,
     "start_time": "2024-05-18T09:34:10.866713",
     "status": "completed"
    },
    "tags": []
   },
   "source": [
    "## Read Dataset:"
   ]
  },
  {
   "cell_type": "code",
   "execution_count": 3,
   "id": "b2fa73df",
   "metadata": {
    "execution": {
     "iopub.execute_input": "2024-05-18T09:34:10.897920Z",
     "iopub.status.busy": "2024-05-18T09:34:10.897535Z",
     "iopub.status.idle": "2024-05-18T09:34:10.924533Z",
     "shell.execute_reply": "2024-05-18T09:34:10.923427Z"
    },
    "papermill": {
     "duration": 0.040779,
     "end_time": "2024-05-18T09:34:10.927086",
     "exception": false,
     "start_time": "2024-05-18T09:34:10.886307",
     "status": "completed"
    },
    "tags": []
   },
   "outputs": [],
   "source": [
    "df = pd.read_csv(\"/kaggle/input/usa_mercedes_benz_prices.csv\")"
   ]
  },
  {
   "cell_type": "markdown",
   "id": "bbd31a60",
   "metadata": {
    "papermill": {
     "duration": 0.009794,
     "end_time": "2024-05-18T09:34:10.947147",
     "exception": false,
     "start_time": "2024-05-18T09:34:10.937353",
     "status": "completed"
    },
    "tags": []
   },
   "source": [
    "## Check Head and Info:"
   ]
  },
  {
   "cell_type": "code",
   "execution_count": 4,
   "id": "8efa4d18",
   "metadata": {
    "execution": {
     "iopub.execute_input": "2024-05-18T09:34:10.969849Z",
     "iopub.status.busy": "2024-05-18T09:34:10.969246Z",
     "iopub.status.idle": "2024-05-18T09:34:10.991510Z",
     "shell.execute_reply": "2024-05-18T09:34:10.990803Z"
    },
    "papermill": {
     "duration": 0.036216,
     "end_time": "2024-05-18T09:34:10.993604",
     "exception": false,
     "start_time": "2024-05-18T09:34:10.957388",
     "status": "completed"
    },
    "tags": []
   },
   "outputs": [
    {
     "data": {
      "text/html": [
       "<div>\n",
       "<style scoped>\n",
       "    .dataframe tbody tr th:only-of-type {\n",
       "        vertical-align: middle;\n",
       "    }\n",
       "\n",
       "    .dataframe tbody tr th {\n",
       "        vertical-align: top;\n",
       "    }\n",
       "\n",
       "    .dataframe thead th {\n",
       "        text-align: right;\n",
       "    }\n",
       "</style>\n",
       "<table border=\"1\" class=\"dataframe\">\n",
       "  <thead>\n",
       "    <tr style=\"text-align: right;\">\n",
       "      <th></th>\n",
       "      <th>Name</th>\n",
       "      <th>Mileage</th>\n",
       "      <th>Rating</th>\n",
       "      <th>Review Count</th>\n",
       "      <th>Price</th>\n",
       "    </tr>\n",
       "  </thead>\n",
       "  <tbody>\n",
       "    <tr>\n",
       "      <th>0</th>\n",
       "      <td>2021 Mercedes-Benz A-Class A 220 4MATIC</td>\n",
       "      <td>29,636 mi.</td>\n",
       "      <td>3.9</td>\n",
       "      <td>1,800</td>\n",
       "      <td>$30,900</td>\n",
       "    </tr>\n",
       "    <tr>\n",
       "      <th>1</th>\n",
       "      <td>2022 Mercedes-Benz AMG SL 63 Base</td>\n",
       "      <td>5,540 mi.</td>\n",
       "      <td>4.7</td>\n",
       "      <td>1,239</td>\n",
       "      <td>$139,999</td>\n",
       "    </tr>\n",
       "    <tr>\n",
       "      <th>2</th>\n",
       "      <td>2022 Mercedes-Benz AMG SL 63 Base</td>\n",
       "      <td>4,890 mi.</td>\n",
       "      <td>4.7</td>\n",
       "      <td>1,239</td>\n",
       "      <td>$132,999</td>\n",
       "    </tr>\n",
       "    <tr>\n",
       "      <th>3</th>\n",
       "      <td>2020 Mercedes-Benz AMG E 53 Base 4MATIC</td>\n",
       "      <td>29,746 mi.</td>\n",
       "      <td>4.8</td>\n",
       "      <td>752</td>\n",
       "      <td>$58,587</td>\n",
       "    </tr>\n",
       "    <tr>\n",
       "      <th>4</th>\n",
       "      <td>2021 Mercedes-Benz AMG GLS 63 Base 4MATIC</td>\n",
       "      <td>32,631 mi.</td>\n",
       "      <td>5.0</td>\n",
       "      <td>1,502</td>\n",
       "      <td>$95,990</td>\n",
       "    </tr>\n",
       "  </tbody>\n",
       "</table>\n",
       "</div>"
      ],
      "text/plain": [
       "                                        Name     Mileage  Rating Review Count  \\\n",
       "0    2021 Mercedes-Benz A-Class A 220 4MATIC  29,636 mi.     3.9       1,800    \n",
       "1          2022 Mercedes-Benz AMG SL 63 Base   5,540 mi.     4.7       1,239    \n",
       "2          2022 Mercedes-Benz AMG SL 63 Base   4,890 mi.     4.7       1,239    \n",
       "3    2020 Mercedes-Benz AMG E 53 Base 4MATIC  29,746 mi.     4.8         752    \n",
       "4  2021 Mercedes-Benz AMG GLS 63 Base 4MATIC  32,631 mi.     5.0       1,502    \n",
       "\n",
       "      Price  \n",
       "0   $30,900  \n",
       "1  $139,999  \n",
       "2  $132,999  \n",
       "3   $58,587  \n",
       "4   $95,990  "
      ]
     },
     "execution_count": 4,
     "metadata": {},
     "output_type": "execute_result"
    }
   ],
   "source": [
    "df.head(5)"
   ]
  },
  {
   "cell_type": "code",
   "execution_count": 5,
   "id": "25d5cfec",
   "metadata": {
    "execution": {
     "iopub.execute_input": "2024-05-18T09:34:11.016149Z",
     "iopub.status.busy": "2024-05-18T09:34:11.015438Z",
     "iopub.status.idle": "2024-05-18T09:34:11.040497Z",
     "shell.execute_reply": "2024-05-18T09:34:11.039303Z"
    },
    "papermill": {
     "duration": 0.039112,
     "end_time": "2024-05-18T09:34:11.042981",
     "exception": false,
     "start_time": "2024-05-18T09:34:11.003869",
     "status": "completed"
    },
    "tags": []
   },
   "outputs": [
    {
     "name": "stdout",
     "output_type": "stream",
     "text": [
      "<class 'pandas.core.frame.DataFrame'>\n",
      "RangeIndex: 2429 entries, 0 to 2428\n",
      "Data columns (total 5 columns):\n",
      " #   Column        Non-Null Count  Dtype  \n",
      "---  ------        --------------  -----  \n",
      " 0   Name          2429 non-null   object \n",
      " 1   Mileage       2429 non-null   object \n",
      " 2   Rating        2135 non-null   float64\n",
      " 3   Review Count  2398 non-null   object \n",
      " 4   Price         2429 non-null   object \n",
      "dtypes: float64(1), object(4)\n",
      "memory usage: 95.0+ KB\n"
     ]
    }
   ],
   "source": [
    "df.info()"
   ]
  },
  {
   "cell_type": "markdown",
   "id": "493ee3e5",
   "metadata": {
    "papermill": {
     "duration": 0.010012,
     "end_time": "2024-05-18T09:34:11.063406",
     "exception": false,
     "start_time": "2024-05-18T09:34:11.053394",
     "status": "completed"
    },
    "tags": []
   },
   "source": [
    "_____"
   ]
  },
  {
   "cell_type": "markdown",
   "id": "f2837f04",
   "metadata": {
    "papermill": {
     "duration": 0.010045,
     "end_time": "2024-05-18T09:34:11.083947",
     "exception": false,
     "start_time": "2024-05-18T09:34:11.073902",
     "status": "completed"
    },
    "tags": []
   },
   "source": [
    "# Data Cleaning:"
   ]
  },
  {
   "cell_type": "markdown",
   "id": "489752e6",
   "metadata": {
    "papermill": {
     "duration": 0.009881,
     "end_time": "2024-05-18T09:34:11.104052",
     "exception": false,
     "start_time": "2024-05-18T09:34:11.094171",
     "status": "completed"
    },
    "tags": []
   },
   "source": [
    "## Remove Unwanted Letters:\n",
    "I want to remove  mi which is apperaing with  mileage"
   ]
  },
  {
   "cell_type": "code",
   "execution_count": 6,
   "id": "a871a09e",
   "metadata": {
    "execution": {
     "iopub.execute_input": "2024-05-18T09:34:11.125733Z",
     "iopub.status.busy": "2024-05-18T09:34:11.125380Z",
     "iopub.status.idle": "2024-05-18T09:34:11.132153Z",
     "shell.execute_reply": "2024-05-18T09:34:11.130967Z"
    },
    "papermill": {
     "duration": 0.020207,
     "end_time": "2024-05-18T09:34:11.134252",
     "exception": false,
     "start_time": "2024-05-18T09:34:11.114045",
     "status": "completed"
    },
    "tags": []
   },
   "outputs": [],
   "source": [
    "# Remove 'mi.' from mileage column\n",
    "df['Mileage'] = df['Mileage'].str.replace(' mi.', '')"
   ]
  },
  {
   "cell_type": "code",
   "execution_count": 7,
   "id": "497f154e",
   "metadata": {
    "execution": {
     "iopub.execute_input": "2024-05-18T09:34:11.156575Z",
     "iopub.status.busy": "2024-05-18T09:34:11.156228Z",
     "iopub.status.idle": "2024-05-18T09:34:11.169477Z",
     "shell.execute_reply": "2024-05-18T09:34:11.168221Z"
    },
    "papermill": {
     "duration": 0.026769,
     "end_time": "2024-05-18T09:34:11.171667",
     "exception": false,
     "start_time": "2024-05-18T09:34:11.144898",
     "status": "completed"
    },
    "tags": []
   },
   "outputs": [
    {
     "data": {
      "text/html": [
       "<div>\n",
       "<style scoped>\n",
       "    .dataframe tbody tr th:only-of-type {\n",
       "        vertical-align: middle;\n",
       "    }\n",
       "\n",
       "    .dataframe tbody tr th {\n",
       "        vertical-align: top;\n",
       "    }\n",
       "\n",
       "    .dataframe thead th {\n",
       "        text-align: right;\n",
       "    }\n",
       "</style>\n",
       "<table border=\"1\" class=\"dataframe\">\n",
       "  <thead>\n",
       "    <tr style=\"text-align: right;\">\n",
       "      <th></th>\n",
       "      <th>Name</th>\n",
       "      <th>Mileage</th>\n",
       "      <th>Rating</th>\n",
       "      <th>Review Count</th>\n",
       "      <th>Price</th>\n",
       "    </tr>\n",
       "  </thead>\n",
       "  <tbody>\n",
       "    <tr>\n",
       "      <th>0</th>\n",
       "      <td>2021 Mercedes-Benz A-Class A 220 4MATIC</td>\n",
       "      <td>29,636</td>\n",
       "      <td>3.9</td>\n",
       "      <td>1,800</td>\n",
       "      <td>$30,900</td>\n",
       "    </tr>\n",
       "    <tr>\n",
       "      <th>1</th>\n",
       "      <td>2022 Mercedes-Benz AMG SL 63 Base</td>\n",
       "      <td>5,540</td>\n",
       "      <td>4.7</td>\n",
       "      <td>1,239</td>\n",
       "      <td>$139,999</td>\n",
       "    </tr>\n",
       "    <tr>\n",
       "      <th>2</th>\n",
       "      <td>2022 Mercedes-Benz AMG SL 63 Base</td>\n",
       "      <td>4,890</td>\n",
       "      <td>4.7</td>\n",
       "      <td>1,239</td>\n",
       "      <td>$132,999</td>\n",
       "    </tr>\n",
       "    <tr>\n",
       "      <th>3</th>\n",
       "      <td>2020 Mercedes-Benz AMG E 53 Base 4MATIC</td>\n",
       "      <td>29,746</td>\n",
       "      <td>4.8</td>\n",
       "      <td>752</td>\n",
       "      <td>$58,587</td>\n",
       "    </tr>\n",
       "    <tr>\n",
       "      <th>4</th>\n",
       "      <td>2021 Mercedes-Benz AMG GLS 63 Base 4MATIC</td>\n",
       "      <td>32,631</td>\n",
       "      <td>5.0</td>\n",
       "      <td>1,502</td>\n",
       "      <td>$95,990</td>\n",
       "    </tr>\n",
       "  </tbody>\n",
       "</table>\n",
       "</div>"
      ],
      "text/plain": [
       "                                        Name Mileage  Rating Review Count  \\\n",
       "0    2021 Mercedes-Benz A-Class A 220 4MATIC  29,636     3.9       1,800    \n",
       "1          2022 Mercedes-Benz AMG SL 63 Base   5,540     4.7       1,239    \n",
       "2          2022 Mercedes-Benz AMG SL 63 Base   4,890     4.7       1,239    \n",
       "3    2020 Mercedes-Benz AMG E 53 Base 4MATIC  29,746     4.8         752    \n",
       "4  2021 Mercedes-Benz AMG GLS 63 Base 4MATIC  32,631     5.0       1,502    \n",
       "\n",
       "      Price  \n",
       "0   $30,900  \n",
       "1  $139,999  \n",
       "2  $132,999  \n",
       "3   $58,587  \n",
       "4   $95,990  "
      ]
     },
     "execution_count": 7,
     "metadata": {},
     "output_type": "execute_result"
    }
   ],
   "source": [
    "df.head(5)"
   ]
  },
  {
   "cell_type": "code",
   "execution_count": 8,
   "id": "8c577e99",
   "metadata": {
    "execution": {
     "iopub.execute_input": "2024-05-18T09:34:11.194891Z",
     "iopub.status.busy": "2024-05-18T09:34:11.193765Z",
     "iopub.status.idle": "2024-05-18T09:34:11.201225Z",
     "shell.execute_reply": "2024-05-18T09:34:11.200074Z"
    },
    "papermill": {
     "duration": 0.0212,
     "end_time": "2024-05-18T09:34:11.203393",
     "exception": false,
     "start_time": "2024-05-18T09:34:11.182193",
     "status": "completed"
    },
    "tags": []
   },
   "outputs": [],
   "source": [
    "# Remove '$.' from Price column\n",
    "df['Price'] = df['Price'].str.replace('$', '')"
   ]
  },
  {
   "cell_type": "code",
   "execution_count": 9,
   "id": "469ebee9",
   "metadata": {
    "execution": {
     "iopub.execute_input": "2024-05-18T09:34:11.226095Z",
     "iopub.status.busy": "2024-05-18T09:34:11.225496Z",
     "iopub.status.idle": "2024-05-18T09:34:11.237179Z",
     "shell.execute_reply": "2024-05-18T09:34:11.236077Z"
    },
    "papermill": {
     "duration": 0.025432,
     "end_time": "2024-05-18T09:34:11.239236",
     "exception": false,
     "start_time": "2024-05-18T09:34:11.213804",
     "status": "completed"
    },
    "tags": []
   },
   "outputs": [
    {
     "data": {
      "text/html": [
       "<div>\n",
       "<style scoped>\n",
       "    .dataframe tbody tr th:only-of-type {\n",
       "        vertical-align: middle;\n",
       "    }\n",
       "\n",
       "    .dataframe tbody tr th {\n",
       "        vertical-align: top;\n",
       "    }\n",
       "\n",
       "    .dataframe thead th {\n",
       "        text-align: right;\n",
       "    }\n",
       "</style>\n",
       "<table border=\"1\" class=\"dataframe\">\n",
       "  <thead>\n",
       "    <tr style=\"text-align: right;\">\n",
       "      <th></th>\n",
       "      <th>Name</th>\n",
       "      <th>Mileage</th>\n",
       "      <th>Rating</th>\n",
       "      <th>Review Count</th>\n",
       "      <th>Price</th>\n",
       "    </tr>\n",
       "  </thead>\n",
       "  <tbody>\n",
       "    <tr>\n",
       "      <th>0</th>\n",
       "      <td>2021 Mercedes-Benz A-Class A 220 4MATIC</td>\n",
       "      <td>29,636</td>\n",
       "      <td>3.9</td>\n",
       "      <td>1,800</td>\n",
       "      <td>30,900</td>\n",
       "    </tr>\n",
       "    <tr>\n",
       "      <th>1</th>\n",
       "      <td>2022 Mercedes-Benz AMG SL 63 Base</td>\n",
       "      <td>5,540</td>\n",
       "      <td>4.7</td>\n",
       "      <td>1,239</td>\n",
       "      <td>139,999</td>\n",
       "    </tr>\n",
       "    <tr>\n",
       "      <th>2</th>\n",
       "      <td>2022 Mercedes-Benz AMG SL 63 Base</td>\n",
       "      <td>4,890</td>\n",
       "      <td>4.7</td>\n",
       "      <td>1,239</td>\n",
       "      <td>132,999</td>\n",
       "    </tr>\n",
       "    <tr>\n",
       "      <th>3</th>\n",
       "      <td>2020 Mercedes-Benz AMG E 53 Base 4MATIC</td>\n",
       "      <td>29,746</td>\n",
       "      <td>4.8</td>\n",
       "      <td>752</td>\n",
       "      <td>58,587</td>\n",
       "    </tr>\n",
       "    <tr>\n",
       "      <th>4</th>\n",
       "      <td>2021 Mercedes-Benz AMG GLS 63 Base 4MATIC</td>\n",
       "      <td>32,631</td>\n",
       "      <td>5.0</td>\n",
       "      <td>1,502</td>\n",
       "      <td>95,990</td>\n",
       "    </tr>\n",
       "  </tbody>\n",
       "</table>\n",
       "</div>"
      ],
      "text/plain": [
       "                                        Name Mileage  Rating Review Count  \\\n",
       "0    2021 Mercedes-Benz A-Class A 220 4MATIC  29,636     3.9       1,800    \n",
       "1          2022 Mercedes-Benz AMG SL 63 Base   5,540     4.7       1,239    \n",
       "2          2022 Mercedes-Benz AMG SL 63 Base   4,890     4.7       1,239    \n",
       "3    2020 Mercedes-Benz AMG E 53 Base 4MATIC  29,746     4.8         752    \n",
       "4  2021 Mercedes-Benz AMG GLS 63 Base 4MATIC  32,631     5.0       1,502    \n",
       "\n",
       "     Price  \n",
       "0   30,900  \n",
       "1  139,999  \n",
       "2  132,999  \n",
       "3   58,587  \n",
       "4   95,990  "
      ]
     },
     "execution_count": 9,
     "metadata": {},
     "output_type": "execute_result"
    }
   ],
   "source": [
    "df.head()"
   ]
  },
  {
   "cell_type": "markdown",
   "id": "13e76777",
   "metadata": {
    "papermill": {
     "duration": 0.010109,
     "end_time": "2024-05-18T09:34:11.260163",
     "exception": false,
     "start_time": "2024-05-18T09:34:11.250054",
     "status": "completed"
    },
    "tags": []
   },
   "source": [
    "## Rename column:\n",
    "I want to  add miles  with mileage for  better understanding and dollar sign with price."
   ]
  },
  {
   "cell_type": "code",
   "execution_count": 10,
   "id": "495fde43",
   "metadata": {
    "execution": {
     "iopub.execute_input": "2024-05-18T09:34:11.282977Z",
     "iopub.status.busy": "2024-05-18T09:34:11.282591Z",
     "iopub.status.idle": "2024-05-18T09:34:11.287757Z",
     "shell.execute_reply": "2024-05-18T09:34:11.286978Z"
    },
    "papermill": {
     "duration": 0.019326,
     "end_time": "2024-05-18T09:34:11.290059",
     "exception": false,
     "start_time": "2024-05-18T09:34:11.270733",
     "status": "completed"
    },
    "tags": []
   },
   "outputs": [],
   "source": [
    "df.rename(columns={'Mileage': 'Mileage (miles)'}, inplace=True)"
   ]
  },
  {
   "cell_type": "code",
   "execution_count": 11,
   "id": "9af7c482",
   "metadata": {
    "execution": {
     "iopub.execute_input": "2024-05-18T09:34:11.316265Z",
     "iopub.status.busy": "2024-05-18T09:34:11.315525Z",
     "iopub.status.idle": "2024-05-18T09:34:11.320831Z",
     "shell.execute_reply": "2024-05-18T09:34:11.319799Z"
    },
    "papermill": {
     "duration": 0.020675,
     "end_time": "2024-05-18T09:34:11.323156",
     "exception": false,
     "start_time": "2024-05-18T09:34:11.302481",
     "status": "completed"
    },
    "tags": []
   },
   "outputs": [],
   "source": [
    "df.rename(columns={'Price': 'Price (US$)'}, inplace=True)"
   ]
  },
  {
   "cell_type": "code",
   "execution_count": 12,
   "id": "0415f806",
   "metadata": {
    "execution": {
     "iopub.execute_input": "2024-05-18T09:34:11.404621Z",
     "iopub.status.busy": "2024-05-18T09:34:11.403871Z",
     "iopub.status.idle": "2024-05-18T09:34:11.415894Z",
     "shell.execute_reply": "2024-05-18T09:34:11.414788Z"
    },
    "papermill": {
     "duration": 0.084162,
     "end_time": "2024-05-18T09:34:11.418010",
     "exception": false,
     "start_time": "2024-05-18T09:34:11.333848",
     "status": "completed"
    },
    "tags": []
   },
   "outputs": [
    {
     "data": {
      "text/html": [
       "<div>\n",
       "<style scoped>\n",
       "    .dataframe tbody tr th:only-of-type {\n",
       "        vertical-align: middle;\n",
       "    }\n",
       "\n",
       "    .dataframe tbody tr th {\n",
       "        vertical-align: top;\n",
       "    }\n",
       "\n",
       "    .dataframe thead th {\n",
       "        text-align: right;\n",
       "    }\n",
       "</style>\n",
       "<table border=\"1\" class=\"dataframe\">\n",
       "  <thead>\n",
       "    <tr style=\"text-align: right;\">\n",
       "      <th></th>\n",
       "      <th>Name</th>\n",
       "      <th>Mileage (miles)</th>\n",
       "      <th>Rating</th>\n",
       "      <th>Review Count</th>\n",
       "      <th>Price (US$)</th>\n",
       "    </tr>\n",
       "  </thead>\n",
       "  <tbody>\n",
       "    <tr>\n",
       "      <th>0</th>\n",
       "      <td>2021 Mercedes-Benz A-Class A 220 4MATIC</td>\n",
       "      <td>29,636</td>\n",
       "      <td>3.9</td>\n",
       "      <td>1,800</td>\n",
       "      <td>30,900</td>\n",
       "    </tr>\n",
       "    <tr>\n",
       "      <th>1</th>\n",
       "      <td>2022 Mercedes-Benz AMG SL 63 Base</td>\n",
       "      <td>5,540</td>\n",
       "      <td>4.7</td>\n",
       "      <td>1,239</td>\n",
       "      <td>139,999</td>\n",
       "    </tr>\n",
       "    <tr>\n",
       "      <th>2</th>\n",
       "      <td>2022 Mercedes-Benz AMG SL 63 Base</td>\n",
       "      <td>4,890</td>\n",
       "      <td>4.7</td>\n",
       "      <td>1,239</td>\n",
       "      <td>132,999</td>\n",
       "    </tr>\n",
       "    <tr>\n",
       "      <th>3</th>\n",
       "      <td>2020 Mercedes-Benz AMG E 53 Base 4MATIC</td>\n",
       "      <td>29,746</td>\n",
       "      <td>4.8</td>\n",
       "      <td>752</td>\n",
       "      <td>58,587</td>\n",
       "    </tr>\n",
       "    <tr>\n",
       "      <th>4</th>\n",
       "      <td>2021 Mercedes-Benz AMG GLS 63 Base 4MATIC</td>\n",
       "      <td>32,631</td>\n",
       "      <td>5.0</td>\n",
       "      <td>1,502</td>\n",
       "      <td>95,990</td>\n",
       "    </tr>\n",
       "  </tbody>\n",
       "</table>\n",
       "</div>"
      ],
      "text/plain": [
       "                                        Name Mileage (miles)  Rating  \\\n",
       "0    2021 Mercedes-Benz A-Class A 220 4MATIC          29,636     3.9   \n",
       "1          2022 Mercedes-Benz AMG SL 63 Base           5,540     4.7   \n",
       "2          2022 Mercedes-Benz AMG SL 63 Base           4,890     4.7   \n",
       "3    2020 Mercedes-Benz AMG E 53 Base 4MATIC          29,746     4.8   \n",
       "4  2021 Mercedes-Benz AMG GLS 63 Base 4MATIC          32,631     5.0   \n",
       "\n",
       "  Review Count Price (US$)  \n",
       "0       1,800       30,900  \n",
       "1       1,239      139,999  \n",
       "2       1,239      132,999  \n",
       "3         752       58,587  \n",
       "4       1,502       95,990  "
      ]
     },
     "execution_count": 12,
     "metadata": {},
     "output_type": "execute_result"
    }
   ],
   "source": [
    "df.head()"
   ]
  },
  {
   "cell_type": "markdown",
   "id": "e0fb6cb7",
   "metadata": {
    "papermill": {
     "duration": 0.010468,
     "end_time": "2024-05-18T09:34:11.439288",
     "exception": false,
     "start_time": "2024-05-18T09:34:11.428820",
     "status": "completed"
    },
    "tags": []
   },
   "source": [
    "## Make Model Year column:\n",
    "Adding column for Model  year\n"
   ]
  },
  {
   "cell_type": "code",
   "execution_count": 13,
   "id": "b9d2ac95",
   "metadata": {
    "execution": {
     "iopub.execute_input": "2024-05-18T09:34:11.463141Z",
     "iopub.status.busy": "2024-05-18T09:34:11.462308Z",
     "iopub.status.idle": "2024-05-18T09:34:11.473483Z",
     "shell.execute_reply": "2024-05-18T09:34:11.472662Z"
    },
    "papermill": {
     "duration": 0.025342,
     "end_time": "2024-05-18T09:34:11.475603",
     "exception": false,
     "start_time": "2024-05-18T09:34:11.450261",
     "status": "completed"
    },
    "tags": []
   },
   "outputs": [],
   "source": [
    "# Extracting model year from the 'Name' column\n",
    "df['Model Year'] = df['Name'].str.extract(r'(\\d{4})')"
   ]
  },
  {
   "cell_type": "code",
   "execution_count": 14,
   "id": "533ec59e",
   "metadata": {
    "execution": {
     "iopub.execute_input": "2024-05-18T09:34:11.499323Z",
     "iopub.status.busy": "2024-05-18T09:34:11.498921Z",
     "iopub.status.idle": "2024-05-18T09:34:11.511000Z",
     "shell.execute_reply": "2024-05-18T09:34:11.509969Z"
    },
    "papermill": {
     "duration": 0.026426,
     "end_time": "2024-05-18T09:34:11.513134",
     "exception": false,
     "start_time": "2024-05-18T09:34:11.486708",
     "status": "completed"
    },
    "tags": []
   },
   "outputs": [
    {
     "data": {
      "text/html": [
       "<div>\n",
       "<style scoped>\n",
       "    .dataframe tbody tr th:only-of-type {\n",
       "        vertical-align: middle;\n",
       "    }\n",
       "\n",
       "    .dataframe tbody tr th {\n",
       "        vertical-align: top;\n",
       "    }\n",
       "\n",
       "    .dataframe thead th {\n",
       "        text-align: right;\n",
       "    }\n",
       "</style>\n",
       "<table border=\"1\" class=\"dataframe\">\n",
       "  <thead>\n",
       "    <tr style=\"text-align: right;\">\n",
       "      <th></th>\n",
       "      <th>Name</th>\n",
       "      <th>Mileage (miles)</th>\n",
       "      <th>Rating</th>\n",
       "      <th>Review Count</th>\n",
       "      <th>Price (US$)</th>\n",
       "      <th>Model Year</th>\n",
       "    </tr>\n",
       "  </thead>\n",
       "  <tbody>\n",
       "    <tr>\n",
       "      <th>0</th>\n",
       "      <td>2021 Mercedes-Benz A-Class A 220 4MATIC</td>\n",
       "      <td>29,636</td>\n",
       "      <td>3.9</td>\n",
       "      <td>1,800</td>\n",
       "      <td>30,900</td>\n",
       "      <td>2021</td>\n",
       "    </tr>\n",
       "    <tr>\n",
       "      <th>1</th>\n",
       "      <td>2022 Mercedes-Benz AMG SL 63 Base</td>\n",
       "      <td>5,540</td>\n",
       "      <td>4.7</td>\n",
       "      <td>1,239</td>\n",
       "      <td>139,999</td>\n",
       "      <td>2022</td>\n",
       "    </tr>\n",
       "    <tr>\n",
       "      <th>2</th>\n",
       "      <td>2022 Mercedes-Benz AMG SL 63 Base</td>\n",
       "      <td>4,890</td>\n",
       "      <td>4.7</td>\n",
       "      <td>1,239</td>\n",
       "      <td>132,999</td>\n",
       "      <td>2022</td>\n",
       "    </tr>\n",
       "    <tr>\n",
       "      <th>3</th>\n",
       "      <td>2020 Mercedes-Benz AMG E 53 Base 4MATIC</td>\n",
       "      <td>29,746</td>\n",
       "      <td>4.8</td>\n",
       "      <td>752</td>\n",
       "      <td>58,587</td>\n",
       "      <td>2020</td>\n",
       "    </tr>\n",
       "    <tr>\n",
       "      <th>4</th>\n",
       "      <td>2021 Mercedes-Benz AMG GLS 63 Base 4MATIC</td>\n",
       "      <td>32,631</td>\n",
       "      <td>5.0</td>\n",
       "      <td>1,502</td>\n",
       "      <td>95,990</td>\n",
       "      <td>2021</td>\n",
       "    </tr>\n",
       "  </tbody>\n",
       "</table>\n",
       "</div>"
      ],
      "text/plain": [
       "                                        Name Mileage (miles)  Rating  \\\n",
       "0    2021 Mercedes-Benz A-Class A 220 4MATIC          29,636     3.9   \n",
       "1          2022 Mercedes-Benz AMG SL 63 Base           5,540     4.7   \n",
       "2          2022 Mercedes-Benz AMG SL 63 Base           4,890     4.7   \n",
       "3    2020 Mercedes-Benz AMG E 53 Base 4MATIC          29,746     4.8   \n",
       "4  2021 Mercedes-Benz AMG GLS 63 Base 4MATIC          32,631     5.0   \n",
       "\n",
       "  Review Count Price (US$) Model Year  \n",
       "0       1,800       30,900       2021  \n",
       "1       1,239      139,999       2022  \n",
       "2       1,239      132,999       2022  \n",
       "3         752       58,587       2020  \n",
       "4       1,502       95,990       2021  "
      ]
     },
     "execution_count": 14,
     "metadata": {},
     "output_type": "execute_result"
    }
   ],
   "source": [
    "df.head()"
   ]
  },
  {
   "cell_type": "markdown",
   "id": "4cc99b31",
   "metadata": {
    "papermill": {
     "duration": 0.010947,
     "end_time": "2024-05-18T09:34:11.535759",
     "exception": false,
     "start_time": "2024-05-18T09:34:11.524812",
     "status": "completed"
    },
    "tags": []
   },
   "source": [
    "## Remove year from Name:\n",
    "I added a model year column, so I don't want the model year to be included with the model name."
   ]
  },
  {
   "cell_type": "code",
   "execution_count": 15,
   "id": "5d439e50",
   "metadata": {
    "execution": {
     "iopub.execute_input": "2024-05-18T09:34:11.559961Z",
     "iopub.status.busy": "2024-05-18T09:34:11.559576Z",
     "iopub.status.idle": "2024-05-18T09:34:11.579165Z",
     "shell.execute_reply": "2024-05-18T09:34:11.578237Z"
    },
    "papermill": {
     "duration": 0.03412,
     "end_time": "2024-05-18T09:34:11.581113",
     "exception": false,
     "start_time": "2024-05-18T09:34:11.546993",
     "status": "completed"
    },
    "tags": []
   },
   "outputs": [
    {
     "data": {
      "text/html": [
       "<div>\n",
       "<style scoped>\n",
       "    .dataframe tbody tr th:only-of-type {\n",
       "        vertical-align: middle;\n",
       "    }\n",
       "\n",
       "    .dataframe tbody tr th {\n",
       "        vertical-align: top;\n",
       "    }\n",
       "\n",
       "    .dataframe thead th {\n",
       "        text-align: right;\n",
       "    }\n",
       "</style>\n",
       "<table border=\"1\" class=\"dataframe\">\n",
       "  <thead>\n",
       "    <tr style=\"text-align: right;\">\n",
       "      <th></th>\n",
       "      <th>Name</th>\n",
       "      <th>Mileage (miles)</th>\n",
       "      <th>Rating</th>\n",
       "      <th>Review Count</th>\n",
       "      <th>Price (US$)</th>\n",
       "      <th>Model Year</th>\n",
       "    </tr>\n",
       "  </thead>\n",
       "  <tbody>\n",
       "    <tr>\n",
       "      <th>0</th>\n",
       "      <td>Mercedes-Benz A-Class A 220 4MATIC</td>\n",
       "      <td>29,636</td>\n",
       "      <td>3.9</td>\n",
       "      <td>1,800</td>\n",
       "      <td>30,900</td>\n",
       "      <td>2021</td>\n",
       "    </tr>\n",
       "    <tr>\n",
       "      <th>1</th>\n",
       "      <td>Mercedes-Benz AMG SL 63 Base</td>\n",
       "      <td>5,540</td>\n",
       "      <td>4.7</td>\n",
       "      <td>1,239</td>\n",
       "      <td>139,999</td>\n",
       "      <td>2022</td>\n",
       "    </tr>\n",
       "    <tr>\n",
       "      <th>2</th>\n",
       "      <td>Mercedes-Benz AMG SL 63 Base</td>\n",
       "      <td>4,890</td>\n",
       "      <td>4.7</td>\n",
       "      <td>1,239</td>\n",
       "      <td>132,999</td>\n",
       "      <td>2022</td>\n",
       "    </tr>\n",
       "    <tr>\n",
       "      <th>3</th>\n",
       "      <td>Mercedes-Benz AMG E 53 Base 4MATIC</td>\n",
       "      <td>29,746</td>\n",
       "      <td>4.8</td>\n",
       "      <td>752</td>\n",
       "      <td>58,587</td>\n",
       "      <td>2020</td>\n",
       "    </tr>\n",
       "    <tr>\n",
       "      <th>4</th>\n",
       "      <td>Mercedes-Benz AMG GLS 63 Base 4MATIC</td>\n",
       "      <td>32,631</td>\n",
       "      <td>5.0</td>\n",
       "      <td>1,502</td>\n",
       "      <td>95,990</td>\n",
       "      <td>2021</td>\n",
       "    </tr>\n",
       "  </tbody>\n",
       "</table>\n",
       "</div>"
      ],
      "text/plain": [
       "                                   Name Mileage (miles)  Rating Review Count  \\\n",
       "0    Mercedes-Benz A-Class A 220 4MATIC          29,636     3.9       1,800    \n",
       "1          Mercedes-Benz AMG SL 63 Base           5,540     4.7       1,239    \n",
       "2          Mercedes-Benz AMG SL 63 Base           4,890     4.7       1,239    \n",
       "3    Mercedes-Benz AMG E 53 Base 4MATIC          29,746     4.8         752    \n",
       "4  Mercedes-Benz AMG GLS 63 Base 4MATIC          32,631     5.0       1,502    \n",
       "\n",
       "  Price (US$) Model Year  \n",
       "0      30,900       2021  \n",
       "1     139,999       2022  \n",
       "2     132,999       2022  \n",
       "3      58,587       2020  \n",
       "4      95,990       2021  "
      ]
     },
     "execution_count": 15,
     "metadata": {},
     "output_type": "execute_result"
    }
   ],
   "source": [
    "df['Name'] = df['Name'].apply(lambda x: re.sub(r'\\b\\d{4}\\b\\s*', '', x).strip())\n",
    "df.head()"
   ]
  },
  {
   "cell_type": "code",
   "execution_count": 16,
   "id": "9890667d",
   "metadata": {
    "execution": {
     "iopub.execute_input": "2024-05-18T09:34:11.605304Z",
     "iopub.status.busy": "2024-05-18T09:34:11.604925Z",
     "iopub.status.idle": "2024-05-18T09:34:11.616356Z",
     "shell.execute_reply": "2024-05-18T09:34:11.615578Z"
    },
    "papermill": {
     "duration": 0.026035,
     "end_time": "2024-05-18T09:34:11.618562",
     "exception": false,
     "start_time": "2024-05-18T09:34:11.592527",
     "status": "completed"
    },
    "tags": []
   },
   "outputs": [
    {
     "name": "stdout",
     "output_type": "stream",
     "text": [
      "<class 'pandas.core.frame.DataFrame'>\n",
      "RangeIndex: 2429 entries, 0 to 2428\n",
      "Data columns (total 6 columns):\n",
      " #   Column           Non-Null Count  Dtype  \n",
      "---  ------           --------------  -----  \n",
      " 0   Name             2429 non-null   object \n",
      " 1   Mileage (miles)  2429 non-null   object \n",
      " 2   Rating           2135 non-null   float64\n",
      " 3   Review Count     2398 non-null   object \n",
      " 4   Price (US$)      2429 non-null   object \n",
      " 5   Model Year       2429 non-null   object \n",
      "dtypes: float64(1), object(5)\n",
      "memory usage: 114.0+ KB\n"
     ]
    }
   ],
   "source": [
    "df.info()"
   ]
  },
  {
   "cell_type": "markdown",
   "id": "b9d70a5c",
   "metadata": {
    "papermill": {
     "duration": 0.01162,
     "end_time": "2024-05-18T09:34:11.641612",
     "exception": false,
     "start_time": "2024-05-18T09:34:11.629992",
     "status": "completed"
    },
    "tags": []
   },
   "source": [
    "## Convert data type:"
   ]
  },
  {
   "cell_type": "code",
   "execution_count": 17,
   "id": "dab6324f",
   "metadata": {
    "execution": {
     "iopub.execute_input": "2024-05-18T09:34:11.666837Z",
     "iopub.status.busy": "2024-05-18T09:34:11.666428Z",
     "iopub.status.idle": "2024-05-18T09:34:11.675358Z",
     "shell.execute_reply": "2024-05-18T09:34:11.674481Z"
    },
    "papermill": {
     "duration": 0.024337,
     "end_time": "2024-05-18T09:34:11.677542",
     "exception": false,
     "start_time": "2024-05-18T09:34:11.653205",
     "status": "completed"
    },
    "tags": []
   },
   "outputs": [],
   "source": [
    "df['Mileage (miles)'] = df['Mileage (miles)'].str.replace(',', '')\n",
    "df['Review Count'] = df['Review Count'].str.replace(',', '')\n",
    "df['Price (US$)'] = df['Price (US$)'].replace(',', '')"
   ]
  },
  {
   "cell_type": "markdown",
   "id": "a74b5e7a",
   "metadata": {
    "papermill": {
     "duration": 0.011156,
     "end_time": "2024-05-18T09:34:11.700778",
     "exception": false,
     "start_time": "2024-05-18T09:34:11.689622",
     "status": "completed"
    },
    "tags": []
   },
   "source": [
    "## Convert year col to datetime type:\n",
    " I wanna change date in proper date format YYYY/MM/DD"
   ]
  },
  {
   "cell_type": "code",
   "execution_count": 18,
   "id": "a2253813",
   "metadata": {
    "execution": {
     "iopub.execute_input": "2024-05-18T09:34:11.725273Z",
     "iopub.status.busy": "2024-05-18T09:34:11.724508Z",
     "iopub.status.idle": "2024-05-18T09:34:11.736191Z",
     "shell.execute_reply": "2024-05-18T09:34:11.734543Z"
    },
    "papermill": {
     "duration": 0.026756,
     "end_time": "2024-05-18T09:34:11.738856",
     "exception": false,
     "start_time": "2024-05-18T09:34:11.712100",
     "status": "completed"
    },
    "tags": []
   },
   "outputs": [],
   "source": [
    "# Convert 'Model Year' to date format\n",
    "df['Model Year'] = pd.to_datetime(df['Model Year'], format='%Y')"
   ]
  },
  {
   "cell_type": "code",
   "execution_count": 19,
   "id": "b172839d",
   "metadata": {
    "execution": {
     "iopub.execute_input": "2024-05-18T09:34:11.764602Z",
     "iopub.status.busy": "2024-05-18T09:34:11.763841Z",
     "iopub.status.idle": "2024-05-18T09:34:11.775386Z",
     "shell.execute_reply": "2024-05-18T09:34:11.774292Z"
    },
    "papermill": {
     "duration": 0.026823,
     "end_time": "2024-05-18T09:34:11.777655",
     "exception": false,
     "start_time": "2024-05-18T09:34:11.750832",
     "status": "completed"
    },
    "tags": []
   },
   "outputs": [
    {
     "name": "stdout",
     "output_type": "stream",
     "text": [
      "<class 'pandas.core.frame.DataFrame'>\n",
      "RangeIndex: 2429 entries, 0 to 2428\n",
      "Data columns (total 6 columns):\n",
      " #   Column           Non-Null Count  Dtype         \n",
      "---  ------           --------------  -----         \n",
      " 0   Name             2429 non-null   object        \n",
      " 1   Mileage (miles)  2429 non-null   object        \n",
      " 2   Rating           2135 non-null   float64       \n",
      " 3   Review Count     2398 non-null   object        \n",
      " 4   Price (US$)      2429 non-null   object        \n",
      " 5   Model Year       2429 non-null   datetime64[ns]\n",
      "dtypes: datetime64[ns](1), float64(1), object(4)\n",
      "memory usage: 114.0+ KB\n"
     ]
    }
   ],
   "source": [
    "df.info()"
   ]
  },
  {
   "cell_type": "code",
   "execution_count": 20,
   "id": "937200e5",
   "metadata": {
    "execution": {
     "iopub.execute_input": "2024-05-18T09:34:11.802634Z",
     "iopub.status.busy": "2024-05-18T09:34:11.801917Z",
     "iopub.status.idle": "2024-05-18T09:34:11.807467Z",
     "shell.execute_reply": "2024-05-18T09:34:11.806723Z"
    },
    "papermill": {
     "duration": 0.020403,
     "end_time": "2024-05-18T09:34:11.809554",
     "exception": false,
     "start_time": "2024-05-18T09:34:11.789151",
     "status": "completed"
    },
    "tags": []
   },
   "outputs": [],
   "source": [
    "# Convert 'Mileage (miles)'\n",
    "df['Mileage (miles)'] = df['Mileage (miles)'].astype(int)\n"
   ]
  },
  {
   "cell_type": "code",
   "execution_count": 21,
   "id": "11a93a17",
   "metadata": {
    "execution": {
     "iopub.execute_input": "2024-05-18T09:34:11.834694Z",
     "iopub.status.busy": "2024-05-18T09:34:11.834329Z",
     "iopub.status.idle": "2024-05-18T09:34:11.845948Z",
     "shell.execute_reply": "2024-05-18T09:34:11.844800Z"
    },
    "papermill": {
     "duration": 0.027083,
     "end_time": "2024-05-18T09:34:11.848106",
     "exception": false,
     "start_time": "2024-05-18T09:34:11.821023",
     "status": "completed"
    },
    "tags": []
   },
   "outputs": [],
   "source": [
    "# Convert 'Price (US$)' column to integer\n",
    "df['Price (US$)'] = pd.to_numeric(df['Price (US$)'].replace('[$,]', '', regex=True), errors='coerce')\n",
    "\n",
    "# Convert 'Review Count' column to integer\n",
    "df['Review Count'] = pd.to_numeric(df['Review Count'], errors='coerce')"
   ]
  },
  {
   "cell_type": "code",
   "execution_count": 22,
   "id": "a1e0003c",
   "metadata": {
    "execution": {
     "iopub.execute_input": "2024-05-18T09:34:11.872656Z",
     "iopub.status.busy": "2024-05-18T09:34:11.872300Z",
     "iopub.status.idle": "2024-05-18T09:34:11.884108Z",
     "shell.execute_reply": "2024-05-18T09:34:11.882949Z"
    },
    "papermill": {
     "duration": 0.027248,
     "end_time": "2024-05-18T09:34:11.886777",
     "exception": false,
     "start_time": "2024-05-18T09:34:11.859529",
     "status": "completed"
    },
    "tags": []
   },
   "outputs": [
    {
     "name": "stdout",
     "output_type": "stream",
     "text": [
      "<class 'pandas.core.frame.DataFrame'>\n",
      "RangeIndex: 2429 entries, 0 to 2428\n",
      "Data columns (total 6 columns):\n",
      " #   Column           Non-Null Count  Dtype         \n",
      "---  ------           --------------  -----         \n",
      " 0   Name             2429 non-null   object        \n",
      " 1   Mileage (miles)  2429 non-null   int64         \n",
      " 2   Rating           2135 non-null   float64       \n",
      " 3   Review Count     2398 non-null   float64       \n",
      " 4   Price (US$)      2428 non-null   float64       \n",
      " 5   Model Year       2429 non-null   datetime64[ns]\n",
      "dtypes: datetime64[ns](1), float64(3), int64(1), object(1)\n",
      "memory usage: 114.0+ KB\n"
     ]
    }
   ],
   "source": [
    "df.info()"
   ]
  },
  {
   "cell_type": "markdown",
   "id": "1584c3a2",
   "metadata": {
    "papermill": {
     "duration": 0.011383,
     "end_time": "2024-05-18T09:34:11.910118",
     "exception": false,
     "start_time": "2024-05-18T09:34:11.898735",
     "status": "completed"
    },
    "tags": []
   },
   "source": [
    "## Check Null Values:\n",
    "Checking null values in our data is neccessary procces  in data analysis."
   ]
  },
  {
   "cell_type": "code",
   "execution_count": 23,
   "id": "65631e46",
   "metadata": {
    "execution": {
     "iopub.execute_input": "2024-05-18T09:34:11.936355Z",
     "iopub.status.busy": "2024-05-18T09:34:11.935252Z",
     "iopub.status.idle": "2024-05-18T09:34:11.943958Z",
     "shell.execute_reply": "2024-05-18T09:34:11.942915Z"
    },
    "papermill": {
     "duration": 0.02438,
     "end_time": "2024-05-18T09:34:11.946212",
     "exception": false,
     "start_time": "2024-05-18T09:34:11.921832",
     "status": "completed"
    },
    "tags": []
   },
   "outputs": [
    {
     "data": {
      "text/plain": [
       "Name                 0\n",
       "Mileage (miles)      0\n",
       "Rating             294\n",
       "Review Count        31\n",
       "Price (US$)          1\n",
       "Model Year           0\n",
       "dtype: int64"
      ]
     },
     "execution_count": 23,
     "metadata": {},
     "output_type": "execute_result"
    }
   ],
   "source": [
    "df.isnull().sum()"
   ]
  },
  {
   "cell_type": "code",
   "execution_count": 24,
   "id": "33564fb5",
   "metadata": {
    "execution": {
     "iopub.execute_input": "2024-05-18T09:34:11.971964Z",
     "iopub.status.busy": "2024-05-18T09:34:11.971324Z",
     "iopub.status.idle": "2024-05-18T09:34:11.984902Z",
     "shell.execute_reply": "2024-05-18T09:34:11.983798Z"
    },
    "papermill": {
     "duration": 0.029014,
     "end_time": "2024-05-18T09:34:11.987076",
     "exception": false,
     "start_time": "2024-05-18T09:34:11.958062",
     "status": "completed"
    },
    "tags": []
   },
   "outputs": [
    {
     "data": {
      "text/html": [
       "<div>\n",
       "<style scoped>\n",
       "    .dataframe tbody tr th:only-of-type {\n",
       "        vertical-align: middle;\n",
       "    }\n",
       "\n",
       "    .dataframe tbody tr th {\n",
       "        vertical-align: top;\n",
       "    }\n",
       "\n",
       "    .dataframe thead th {\n",
       "        text-align: right;\n",
       "    }\n",
       "</style>\n",
       "<table border=\"1\" class=\"dataframe\">\n",
       "  <thead>\n",
       "    <tr style=\"text-align: right;\">\n",
       "      <th></th>\n",
       "      <th>Name</th>\n",
       "      <th>Mileage (miles)</th>\n",
       "      <th>Rating</th>\n",
       "      <th>Review Count</th>\n",
       "      <th>Price (US$)</th>\n",
       "      <th>Model Year</th>\n",
       "    </tr>\n",
       "  </thead>\n",
       "  <tbody>\n",
       "    <tr>\n",
       "      <th>0</th>\n",
       "      <td>Mercedes-Benz A-Class A 220 4MATIC</td>\n",
       "      <td>29636</td>\n",
       "      <td>3.9</td>\n",
       "      <td>1800.0</td>\n",
       "      <td>30900.0</td>\n",
       "      <td>2021-01-01</td>\n",
       "    </tr>\n",
       "    <tr>\n",
       "      <th>1</th>\n",
       "      <td>Mercedes-Benz AMG SL 63 Base</td>\n",
       "      <td>5540</td>\n",
       "      <td>4.7</td>\n",
       "      <td>1239.0</td>\n",
       "      <td>139999.0</td>\n",
       "      <td>2022-01-01</td>\n",
       "    </tr>\n",
       "    <tr>\n",
       "      <th>2</th>\n",
       "      <td>Mercedes-Benz AMG SL 63 Base</td>\n",
       "      <td>4890</td>\n",
       "      <td>4.7</td>\n",
       "      <td>1239.0</td>\n",
       "      <td>132999.0</td>\n",
       "      <td>2022-01-01</td>\n",
       "    </tr>\n",
       "    <tr>\n",
       "      <th>3</th>\n",
       "      <td>Mercedes-Benz AMG E 53 Base 4MATIC</td>\n",
       "      <td>29746</td>\n",
       "      <td>4.8</td>\n",
       "      <td>752.0</td>\n",
       "      <td>58587.0</td>\n",
       "      <td>2020-01-01</td>\n",
       "    </tr>\n",
       "    <tr>\n",
       "      <th>4</th>\n",
       "      <td>Mercedes-Benz AMG GLS 63 Base 4MATIC</td>\n",
       "      <td>32631</td>\n",
       "      <td>5.0</td>\n",
       "      <td>1502.0</td>\n",
       "      <td>95990.0</td>\n",
       "      <td>2021-01-01</td>\n",
       "    </tr>\n",
       "  </tbody>\n",
       "</table>\n",
       "</div>"
      ],
      "text/plain": [
       "                                   Name  Mileage (miles)  Rating  \\\n",
       "0    Mercedes-Benz A-Class A 220 4MATIC            29636     3.9   \n",
       "1          Mercedes-Benz AMG SL 63 Base             5540     4.7   \n",
       "2          Mercedes-Benz AMG SL 63 Base             4890     4.7   \n",
       "3    Mercedes-Benz AMG E 53 Base 4MATIC            29746     4.8   \n",
       "4  Mercedes-Benz AMG GLS 63 Base 4MATIC            32631     5.0   \n",
       "\n",
       "   Review Count  Price (US$) Model Year  \n",
       "0        1800.0      30900.0 2021-01-01  \n",
       "1        1239.0     139999.0 2022-01-01  \n",
       "2        1239.0     132999.0 2022-01-01  \n",
       "3         752.0      58587.0 2020-01-01  \n",
       "4        1502.0      95990.0 2021-01-01  "
      ]
     },
     "execution_count": 24,
     "metadata": {},
     "output_type": "execute_result"
    }
   ],
   "source": [
    "df.head()"
   ]
  },
  {
   "cell_type": "markdown",
   "id": "3b186df0",
   "metadata": {
    "papermill": {
     "duration": 0.011853,
     "end_time": "2024-05-18T09:34:12.011287",
     "exception": false,
     "start_time": "2024-05-18T09:34:11.999434",
     "status": "completed"
    },
    "tags": []
   },
   "source": [
    "## Check Numerical data Statistical Values:\n",
    "`df.describe()` provides a concise statistical summary of the numerical columns in a DataFrame."
   ]
  },
  {
   "cell_type": "code",
   "execution_count": 25,
   "id": "01845103",
   "metadata": {
    "execution": {
     "iopub.execute_input": "2024-05-18T09:34:12.036821Z",
     "iopub.status.busy": "2024-05-18T09:34:12.036414Z",
     "iopub.status.idle": "2024-05-18T09:34:12.065525Z",
     "shell.execute_reply": "2024-05-18T09:34:12.064471Z"
    },
    "papermill": {
     "duration": 0.044571,
     "end_time": "2024-05-18T09:34:12.067751",
     "exception": false,
     "start_time": "2024-05-18T09:34:12.023180",
     "status": "completed"
    },
    "tags": []
   },
   "outputs": [
    {
     "data": {
      "text/html": [
       "<div>\n",
       "<style scoped>\n",
       "    .dataframe tbody tr th:only-of-type {\n",
       "        vertical-align: middle;\n",
       "    }\n",
       "\n",
       "    .dataframe tbody tr th {\n",
       "        vertical-align: top;\n",
       "    }\n",
       "\n",
       "    .dataframe thead th {\n",
       "        text-align: right;\n",
       "    }\n",
       "</style>\n",
       "<table border=\"1\" class=\"dataframe\">\n",
       "  <thead>\n",
       "    <tr style=\"text-align: right;\">\n",
       "      <th></th>\n",
       "      <th>Mileage (miles)</th>\n",
       "      <th>Rating</th>\n",
       "      <th>Review Count</th>\n",
       "      <th>Price (US$)</th>\n",
       "      <th>Model Year</th>\n",
       "    </tr>\n",
       "  </thead>\n",
       "  <tbody>\n",
       "    <tr>\n",
       "      <th>count</th>\n",
       "      <td>2429.000000</td>\n",
       "      <td>2135.000000</td>\n",
       "      <td>2398.000000</td>\n",
       "      <td>2428.000000</td>\n",
       "      <td>2429</td>\n",
       "    </tr>\n",
       "    <tr>\n",
       "      <th>mean</th>\n",
       "      <td>20075.742692</td>\n",
       "      <td>4.533724</td>\n",
       "      <td>1267.143036</td>\n",
       "      <td>55994.378501</td>\n",
       "      <td>2021-10-09 01:55:36.187731712</td>\n",
       "    </tr>\n",
       "    <tr>\n",
       "      <th>min</th>\n",
       "      <td>100.000000</td>\n",
       "      <td>2.100000</td>\n",
       "      <td>0.000000</td>\n",
       "      <td>8999.000000</td>\n",
       "      <td>2014-01-01 00:00:00</td>\n",
       "    </tr>\n",
       "    <tr>\n",
       "      <th>25%</th>\n",
       "      <td>5845.000000</td>\n",
       "      <td>4.400000</td>\n",
       "      <td>344.000000</td>\n",
       "      <td>38000.000000</td>\n",
       "      <td>2021-01-01 00:00:00</td>\n",
       "    </tr>\n",
       "    <tr>\n",
       "      <th>50%</th>\n",
       "      <td>14013.000000</td>\n",
       "      <td>4.600000</td>\n",
       "      <td>919.000000</td>\n",
       "      <td>46925.500000</td>\n",
       "      <td>2022-01-01 00:00:00</td>\n",
       "    </tr>\n",
       "    <tr>\n",
       "      <th>75%</th>\n",
       "      <td>31191.000000</td>\n",
       "      <td>4.800000</td>\n",
       "      <td>1800.000000</td>\n",
       "      <td>62440.750000</td>\n",
       "      <td>2023-01-01 00:00:00</td>\n",
       "    </tr>\n",
       "    <tr>\n",
       "      <th>max</th>\n",
       "      <td>194043.000000</td>\n",
       "      <td>5.000000</td>\n",
       "      <td>7140.000000</td>\n",
       "      <td>229918.000000</td>\n",
       "      <td>2024-01-01 00:00:00</td>\n",
       "    </tr>\n",
       "    <tr>\n",
       "      <th>std</th>\n",
       "      <td>17800.944138</td>\n",
       "      <td>0.386506</td>\n",
       "      <td>1261.300025</td>\n",
       "      <td>31402.041807</td>\n",
       "      <td>NaN</td>\n",
       "    </tr>\n",
       "  </tbody>\n",
       "</table>\n",
       "</div>"
      ],
      "text/plain": [
       "       Mileage (miles)       Rating  Review Count    Price (US$)  \\\n",
       "count      2429.000000  2135.000000   2398.000000    2428.000000   \n",
       "mean      20075.742692     4.533724   1267.143036   55994.378501   \n",
       "min         100.000000     2.100000      0.000000    8999.000000   \n",
       "25%        5845.000000     4.400000    344.000000   38000.000000   \n",
       "50%       14013.000000     4.600000    919.000000   46925.500000   \n",
       "75%       31191.000000     4.800000   1800.000000   62440.750000   \n",
       "max      194043.000000     5.000000   7140.000000  229918.000000   \n",
       "std       17800.944138     0.386506   1261.300025   31402.041807   \n",
       "\n",
       "                          Model Year  \n",
       "count                           2429  \n",
       "mean   2021-10-09 01:55:36.187731712  \n",
       "min              2014-01-01 00:00:00  \n",
       "25%              2021-01-01 00:00:00  \n",
       "50%              2022-01-01 00:00:00  \n",
       "75%              2023-01-01 00:00:00  \n",
       "max              2024-01-01 00:00:00  \n",
       "std                              NaN  "
      ]
     },
     "execution_count": 25,
     "metadata": {},
     "output_type": "execute_result"
    }
   ],
   "source": [
    "df.describe()\n"
   ]
  },
  {
   "cell_type": "markdown",
   "id": "0cfcea0b",
   "metadata": {
    "papermill": {
     "duration": 0.012065,
     "end_time": "2024-05-18T09:34:12.092237",
     "exception": false,
     "start_time": "2024-05-18T09:34:12.080172",
     "status": "completed"
    },
    "tags": []
   },
   "source": [
    "_____"
   ]
  },
  {
   "cell_type": "markdown",
   "id": "ffb64f64",
   "metadata": {
    "papermill": {
     "duration": 0.012024,
     "end_time": "2024-05-18T09:34:12.116600",
     "exception": false,
     "start_time": "2024-05-18T09:34:12.104576",
     "status": "completed"
    },
    "tags": []
   },
   "source": [
    "# Data Visualization: \n",
    "Data visualization uses charts, graphs, and maps to represent data visually, making complex information easier to understand and analyze."
   ]
  },
  {
   "cell_type": "code",
   "execution_count": 26,
   "id": "0be40a2f",
   "metadata": {
    "execution": {
     "iopub.execute_input": "2024-05-18T09:34:12.143643Z",
     "iopub.status.busy": "2024-05-18T09:34:12.142359Z",
     "iopub.status.idle": "2024-05-18T09:34:15.212014Z",
     "shell.execute_reply": "2024-05-18T09:34:15.210989Z"
    },
    "papermill": {
     "duration": 3.085997,
     "end_time": "2024-05-18T09:34:15.214764",
     "exception": false,
     "start_time": "2024-05-18T09:34:12.128767",
     "status": "completed"
    },
    "tags": []
   },
   "outputs": [
    {
     "name": "stderr",
     "output_type": "stream",
     "text": [
      "/tmp/ipykernel_17/681085565.py:2: FutureWarning: use_inf_as_na option is deprecated and will be removed in a future version. Convert inf values to NaN before operating instead.\n",
      "  pd.set_option('mode.use_inf_as_na', True)\n",
      "/opt/conda/lib/python3.10/site-packages/seaborn/_oldcore.py:1119: FutureWarning: use_inf_as_na option is deprecated and will be removed in a future version. Convert inf values to NaN before operating instead.\n",
      "  with pd.option_context('mode.use_inf_as_na', True):\n",
      "/opt/conda/lib/python3.10/site-packages/seaborn/_oldcore.py:1119: FutureWarning: use_inf_as_na option is deprecated and will be removed in a future version. Convert inf values to NaN before operating instead.\n",
      "  with pd.option_context('mode.use_inf_as_na', True):\n",
      "/opt/conda/lib/python3.10/site-packages/seaborn/_oldcore.py:1119: FutureWarning: use_inf_as_na option is deprecated and will be removed in a future version. Convert inf values to NaN before operating instead.\n",
      "  with pd.option_context('mode.use_inf_as_na', True):\n",
      "/opt/conda/lib/python3.10/site-packages/seaborn/_oldcore.py:1119: FutureWarning: use_inf_as_na option is deprecated and will be removed in a future version. Convert inf values to NaN before operating instead.\n",
      "  with pd.option_context('mode.use_inf_as_na', True):\n"
     ]
    },
    {
     "data": {
      "image/png": "[encoded data removed]",
      "text/plain": [
       "<Figure size 1200x600 with 4 Axes>"
      ]
     },
     "metadata": {},
     "output_type": "display_data"
    },
    {
     "data": {
      "image/png": "[encoded data removed]",
      "text/plain": [
       "<Figure size 1200x600 with 2 Axes>"
      ]
     },
     "metadata": {},
     "output_type": "display_data"
    },
    {
     "name": "stderr",
     "output_type": "stream",
     "text": [
      "/opt/conda/lib/python3.10/site-packages/seaborn/_oldcore.py:1765: FutureWarning: unique with argument that is not not a Series, Index, ExtensionArray, or np.ndarray is deprecated and will raise in a future version.\n",
      "  order = pd.unique(vector)\n",
      "/opt/conda/lib/python3.10/site-packages/seaborn/_oldcore.py:1765: FutureWarning: unique with argument that is not not a Series, Index, ExtensionArray, or np.ndarray is deprecated and will raise in a future version.\n",
      "  order = pd.unique(vector)\n"
     ]
    },
    {
     "data": {
      "image/png": "[encoded data removed]",
      "text/plain": [
       "<Figure size 800x600 with 1 Axes>"
      ]
     },
     "metadata": {},
     "output_type": "display_data"
    },
    {
     "data": {
      "image/png": "[encoded data removed]",
      "text/plain": [
       "<Figure size 1000x600 with 1 Axes>"
      ]
     },
     "metadata": {},
     "output_type": "display_data"
    }
   ],
   "source": [
    "\n",
    "# Suppress FutureWarning about use_inf_as_na\n",
    "pd.set_option('mode.use_inf_as_na', True)\n",
    "# Histograms\n",
    "plt.figure(figsize=(12, 6))\n",
    "plt.subplot(2, 2, 1)\n",
    "sns.histplot(df['Mileage (miles)'], kde=True, color='skyblue')\n",
    "plt.title('Distribution of Mileage')\n",
    "\n",
    "plt.subplot(2, 2, 2)\n",
    "sns.histplot(df['Rating'], kde=True, color='orange')\n",
    "plt.title('Distribution of Rating')\n",
    "\n",
    "plt.subplot(2, 2, 3)\n",
    "sns.histplot(df['Review Count'], kde=True, color='green')\n",
    "plt.title('Distribution of Review Count')\n",
    "\n",
    "plt.subplot(2, 2, 4)\n",
    "sns.histplot(df['Price (US$)'], kde=True, color='red')\n",
    "plt.title('Distribution of Price')\n",
    "\n",
    "plt.tight_layout()\n",
    "plt.show()\n",
    "\n",
    "# Box Plots\n",
    "plt.figure(figsize=(12, 6))\n",
    "plt.subplot(1, 2, 1)\n",
    "sns.boxplot(y='Mileage (miles)', data=df, color='skyblue')\n",
    "plt.title('Box Plot of Mileage')\n",
    "\n",
    "plt.subplot(1, 2, 2)\n",
    "sns.boxplot(y='Price (US$)', data=df, color='red')\n",
    "plt.title('Box Plot of Price')\n",
    "\n",
    "plt.tight_layout()\n",
    "plt.show()\n",
    "\n",
    "# Scatter Plot\n",
    "plt.figure(figsize=(8, 6))\n",
    "sns.scatterplot(x='Mileage (miles)', y='Price (US$)', data=df, hue='Model Year')\n",
    "plt.title('Scatter Plot of Mileage vs Price')\n",
    "plt.show()\n",
    "\n",
    "# Bar Plot\n",
    "plt.figure(figsize=(10, 6))\n",
    "sns.countplot(y='Model Year', data=df, palette='viridis')\n",
    "plt.title('Count of Cars by Model Year')\n",
    "plt.xlabel('Count')\n",
    "plt.ylabel('Model Year')\n",
    "plt.show()\n"
   ]
  },
  {
   "cell_type": "markdown",
   "id": "287ab5bd",
   "metadata": {
    "papermill": {
     "duration": 0.016622,
     "end_time": "2024-05-18T09:34:15.248868",
     "exception": false,
     "start_time": "2024-05-18T09:34:15.232246",
     "status": "completed"
    },
    "tags": []
   },
   "source": [
    "_____"
   ]
  },
  {
   "cell_type": "markdown",
   "id": "2dcefbbd",
   "metadata": {
    "papermill": {
     "duration": 0.018783,
     "end_time": "2024-05-18T09:34:15.284571",
     "exception": false,
     "start_time": "2024-05-18T09:34:15.265788",
     "status": "completed"
    },
    "tags": []
   },
   "source": [
    "# Client's Requirements :(hypothetical scenario)"
   ]
  },
  {
   "cell_type": "code",
   "execution_count": 27,
   "id": "be135448",
   "metadata": {
    "execution": {
     "iopub.execute_input": "2024-05-18T09:34:15.330691Z",
     "iopub.status.busy": "2024-05-18T09:34:15.330166Z",
     "iopub.status.idle": "2024-05-18T09:34:15.339147Z",
     "shell.execute_reply": "2024-05-18T09:34:15.337848Z"
    },
    "papermill": {
     "duration": 0.03461,
     "end_time": "2024-05-18T09:34:15.341272",
     "exception": false,
     "start_time": "2024-05-18T09:34:15.306662",
     "status": "completed"
    },
    "tags": []
   },
   "outputs": [
    {
     "name": "stdout",
     "output_type": "stream",
     "text": [
      "Name               Mercedes-Benz C-Class C 300 4MATIC\n",
      "Mileage (miles)                                   100\n",
      "Rating                                            4.7\n",
      "Review Count                                   2308.0\n",
      "Price (US$)                                   49777.0\n",
      "Model Year                        2024-01-01 00:00:00\n",
      "Name: 1261, dtype: object\n"
     ]
    }
   ],
   "source": [
    "# Find the row with the lowest mileage\n",
    "lowest_mileage_index = df['Mileage (miles)'].idxmin()\n",
    "lowest_mileage_car = df.loc[lowest_mileage_index]\n",
    "\n",
    "# Display the car with the lowest mileage\n",
    "print(lowest_mileage_car)\n",
    "#This code finds and prints the details of the car with the lowest mileage in a DataFrame."
   ]
  },
  {
   "cell_type": "code",
   "execution_count": 28,
   "id": "ff713401",
   "metadata": {
    "execution": {
     "iopub.execute_input": "2024-05-18T09:34:15.378807Z",
     "iopub.status.busy": "2024-05-18T09:34:15.377725Z",
     "iopub.status.idle": "2024-05-18T09:34:15.386503Z",
     "shell.execute_reply": "2024-05-18T09:34:15.384631Z"
    },
    "papermill": {
     "duration": 0.030787,
     "end_time": "2024-05-18T09:34:15.389307",
     "exception": false,
     "start_time": "2024-05-18T09:34:15.358520",
     "status": "completed"
    },
    "tags": []
   },
   "outputs": [
    {
     "name": "stdout",
     "output_type": "stream",
     "text": [
      "Name               Mercedes-Benz Metris Base\n",
      "Mileage (miles)                       194043\n",
      "Rating                                   4.3\n",
      "Review Count                          1491.0\n",
      "Price (US$)                           8999.0\n",
      "Model Year               2017-01-01 00:00:00\n",
      "Name: 526, dtype: object\n"
     ]
    }
   ],
   "source": [
    "# Find the row with the lowest mileage\n",
    "highest_mileage_index = df['Mileage (miles)'].idxmax()\n",
    "highest_mileage_car = df.loc[highest_mileage_index]\n",
    "\n",
    "# Display the car with the lowest mileage\n",
    "print(highest_mileage_car)"
   ]
  },
  {
   "cell_type": "code",
   "execution_count": 29,
   "id": "b2cdf57b",
   "metadata": {
    "execution": {
     "iopub.execute_input": "2024-05-18T09:34:15.436648Z",
     "iopub.status.busy": "2024-05-18T09:34:15.436025Z",
     "iopub.status.idle": "2024-05-18T09:34:15.443315Z",
     "shell.execute_reply": "2024-05-18T09:34:15.442381Z"
    },
    "papermill": {
     "duration": 0.035978,
     "end_time": "2024-05-18T09:34:15.445942",
     "exception": false,
     "start_time": "2024-05-18T09:34:15.409964",
     "status": "completed"
    },
    "tags": []
   },
   "outputs": [
    {
     "name": "stdout",
     "output_type": "stream",
     "text": [
      "Name               Mercedes-Benz AMG G 63 4MATIC\n",
      "Mileage (miles)                             1777\n",
      "Rating                                       4.4\n",
      "Review Count                              1038.0\n",
      "Price (US$)                             229918.0\n",
      "Model Year                   2023-01-01 00:00:00\n",
      "Name: 2395, dtype: object\n"
     ]
    }
   ],
   "source": [
    "# Find the row with the highest price\n",
    "highest_price_index = df['Price (US$)'].idxmax()\n",
    "highest_price_car = df.loc[highest_price_index]\n",
    "\n",
    "# Display the car with the highest price\n",
    "print(highest_price_car)"
   ]
  },
  {
   "cell_type": "code",
   "execution_count": 30,
   "id": "5ec9dcd0",
   "metadata": {
    "execution": {
     "iopub.execute_input": "2024-05-18T09:34:15.485612Z",
     "iopub.status.busy": "2024-05-18T09:34:15.485001Z",
     "iopub.status.idle": "2024-05-18T09:34:15.493128Z",
     "shell.execute_reply": "2024-05-18T09:34:15.491838Z"
    },
    "papermill": {
     "duration": 0.028848,
     "end_time": "2024-05-18T09:34:15.495332",
     "exception": false,
     "start_time": "2024-05-18T09:34:15.466484",
     "status": "completed"
    },
    "tags": []
   },
   "outputs": [
    {
     "name": "stdout",
     "output_type": "stream",
     "text": [
      "Name               Mercedes-Benz Metris Base\n",
      "Mileage (miles)                       194043\n",
      "Rating                                   4.3\n",
      "Review Count                          1491.0\n",
      "Price (US$)                           8999.0\n",
      "Model Year               2017-01-01 00:00:00\n",
      "Name: 526, dtype: object\n"
     ]
    }
   ],
   "source": [
    "# Find the row with the lowest price\n",
    "lowest_price_index = df['Price (US$)'].idxmin()\n",
    "lowest_price_car = df.loc[lowest_price_index]\n",
    "\n",
    "# Display the car with the lowest price\n",
    "print(lowest_price_car)"
   ]
  },
  {
   "cell_type": "markdown",
   "id": "5061589c",
   "metadata": {
    "papermill": {
     "duration": 0.017167,
     "end_time": "2024-05-18T09:34:15.529872",
     "exception": false,
     "start_time": "2024-05-18T09:34:15.512705",
     "status": "completed"
    },
    "tags": []
   },
   "source": [
    "# Conclusion:\n"
   ]
  },
  {
   "cell_type": "markdown",
   "id": "8fb048fe",
   "metadata": {
    "papermill": {
     "duration": 0.017536,
     "end_time": "2024-05-18T09:34:15.565958",
     "exception": false,
     "start_time": "2024-05-18T09:34:15.548422",
     "status": "completed"
    },
    "tags": []
   },
   "source": [
    "By the end of this notebook, I discovered that the dataset contains information on Mercedes-Benz cars in the USA:\n",
    "\n",
    "- **Mileage (miles):** The average mileage of the cars is around 20,076 miles, with the lowest being 100 miles and the highest 194,043 miles. The mileage varies widely, with an average difference from the mean of 17,801 miles.\n",
    "\n",
    "- **Rating:** The average rating of the cars is 4.53 out of 5, ranging from 2.1 to 5.0. Most cars have a high rating above 4.\n",
    "\n",
    "- **Review Count:** The average number of reviews for the cars is about 1,267, with the lowest being 0 reviews and the highest 7,140 reviews. The number of reviews varies greatly among the cars, with an average difference from the mean of 1,261.\n",
    "\n",
    "-**Price (US):** The average price of the cars is $55,994, ranging from $8,999 to $229,918. The prices show considerable variation, with an average difference from the mean of $31,402.\n",
    "\n",
    "These statistics provide insights into the distribution and range of mileage, rating, review count, and price for Mercedes-Benz cars in the dataset."
   ]
  }
 ],
 "metadata": {
  "kaggle": {
   "accelerator": "none",
   "dataSources": [
    {
     "datasetId": 4887547,
     "sourceId": 8239459,
     "sourceType": "datasetVersion"
    }
   ],
   "dockerImageVersionId": 30698,
   "isGpuEnabled": false,
   "isInternetEnabled": true,
   "language": "python",
   "sourceType": "notebook"
  },
  "kernelspec": {
   "display_name": "Python 3",
   "language": "python",
   "name": "python3"
  },
  "language_info": {
   "codemirror_mode": {
    "name": "ipython",
    "version": 3
   },
   "file_extension": ".py",
   "mimetype": "text/x-python",
   "name": "python",
   "nbconvert_exporter": "python",
   "pygments_lexer": "ipython3",
   "version": "3.10.13"
  },
  "papermill": {
   "default_parameters": {},
   "duration": 10.5968,
   "end_time": "2024-05-18T09:34:16.203761",
   "environment_variables": {},
   "exception": null,
   "input_path": "__notebook__.ipynb",
   "output_path": "__notebook__.ipynb",
   "parameters": {},
   "start_time": "2024-05-18T09:34:05.606961",
   "version": "2.5.0"
  }
 },
 "nbformat": 4,
 "nbformat_minor": 5
}
