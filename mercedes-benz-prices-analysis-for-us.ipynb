{
 "cells": [
  {
   "cell_type": "markdown",
   "id": "899e752e",
   "metadata": {
    "execution": {
     "iopub.execute_input": "2024-05-20T09:19:08.179204Z",
     "iopub.status.busy": "2024-05-20T09:19:08.177776Z",
     "iopub.status.idle": "2024-05-20T09:19:08.188797Z",
     "shell.execute_reply": "2024-05-20T09:19:08.187129Z",
     "shell.execute_reply.started": "2024-05-20T09:19:08.179153Z"
    },
    "papermill": {
     "duration": 0.013516,
     "end_time": "2024-05-20T09:35:36.302287",
     "exception": false,
     "start_time": "2024-05-20T09:35:36.288771",
     "status": "completed"
    },
    "tags": []
   },
   "source": [
    "## Analyzing Mercedes-Benz Prices in the USA: Trends and Insights USA Mercedes Benz Prices Analysis¶\n",
    "## Introduction\n",
    "### About This Notebook\n",
    "This notebook explores the prices of Mercedes-Benz cars in the USA, providing insights into pricing trends and vehicle characteristics. The analysis responds to a client's inquiry, focusing on minimum and maximum prices, as well as mileage variations.\n",
    "\n",
    "### Background\n",
    "Understanding the pricing dynamics of luxury car brands like Mercedes-Benz is crucial in the evolving automotive industry. This notebook examines a dataset with information on various Mercedes-Benz models, including mileage, ratings, review counts, prices, and model years.\n",
    "\n",
    "### Objective¶\n",
    "The primary goals of this analysis are to address the following client questions:\n",
    "\n",
    "Minimum Price of a Car: Identify the least expensive Mercedes-Benz car in the dataset.\n",
    "Maximum Price of a Car: Identify the most expensive Mercedes-Benz car in the dataset.\n",
    "Minimum Mileage Car: Identify the Mercedes-Benz car with the lowest mileage.\n",
    "Maximum Mileage Car: Identify the Mercedes-Benz car with the highest mileage.\n",
    "### Aim of the Notebook\n",
    "By the end of this notebook, My aim is to provide valuable insights into the pricing and mileage characteristics of Mercedes-Benz cars, enabling client to make informed decisions regarding their automotive needs in the USA market.\n",
    "\n",
    "## Import Packages:"
   ]
  },
  {
   "cell_type": "code",
   "execution_count": 1,
   "id": "f248c237",
   "metadata": {
    "execution": {
     "iopub.execute_input": "2024-05-20T09:35:36.332359Z",
     "iopub.status.busy": "2024-05-20T09:35:36.331593Z",
     "iopub.status.idle": "2024-05-20T09:35:38.852540Z",
     "shell.execute_reply": "2024-05-20T09:35:38.851097Z"
    },
    "papermill": {
     "duration": 2.539063,
     "end_time": "2024-05-20T09:35:38.855450",
     "exception": false,
     "start_time": "2024-05-20T09:35:36.316387",
     "status": "completed"
    },
    "tags": []
   },
   "outputs": [
    {
     "name": "stdout",
     "output_type": "stream",
     "text": [
      "/kaggle/input/usa-mercedes-benz-prices-dataset/usa_mercedes_benz_prices.csv\n"
     ]
    }
   ],
   "source": [
    "import pandas as pd\n",
    "import numpy as np \n",
    "import matplotlib.pyplot as plt\n",
    "import seaborn as sns\n",
    "import re \n",
    "import os\n",
    "for dirname, _, filenames in os.walk('/kaggle/input'):\n",
    "    for filename in filenames:\n",
    "        print(os.path.join(dirname, filename))"
   ]
  },
  {
   "cell_type": "markdown",
   "id": "5700a560",
   "metadata": {
    "papermill": {
     "duration": 0.013279,
     "end_time": "2024-05-20T09:35:38.883485",
     "exception": false,
     "start_time": "2024-05-20T09:35:38.870206",
     "status": "completed"
    },
    "tags": []
   },
   "source": [
    "## Dataset Laoding:¶¶\n",
    "Read Dataset:"
   ]
  },
  {
   "cell_type": "code",
   "execution_count": 2,
   "id": "3ba6b5dd",
   "metadata": {
    "execution": {
     "iopub.execute_input": "2024-05-20T09:35:38.914379Z",
     "iopub.status.busy": "2024-05-20T09:35:38.913844Z",
     "iopub.status.idle": "2024-05-20T09:35:38.943091Z",
     "shell.execute_reply": "2024-05-20T09:35:38.941965Z"
    },
    "papermill": {
     "duration": 0.048878,
     "end_time": "2024-05-20T09:35:38.945979",
     "exception": false,
     "start_time": "2024-05-20T09:35:38.897101",
     "status": "completed"
    },
    "tags": []
   },
   "outputs": [],
   "source": [
    "df = pd.read_csv('/kaggle/input/usa-mercedes-benz-prices-dataset/usa_mercedes_benz_prices.csv')"
   ]
  },
  {
   "cell_type": "markdown",
   "id": "db5d062e",
   "metadata": {
    "papermill": {
     "duration": 0.013265,
     "end_time": "2024-05-20T09:35:38.972582",
     "exception": false,
     "start_time": "2024-05-20T09:35:38.959317",
     "status": "completed"
    },
    "tags": []
   },
   "source": [
    "Check Head and Info:¶"
   ]
  },
  {
   "cell_type": "code",
   "execution_count": 3,
   "id": "bf184c62",
   "metadata": {
    "execution": {
     "iopub.execute_input": "2024-05-20T09:35:39.002383Z",
     "iopub.status.busy": "2024-05-20T09:35:39.001768Z",
     "iopub.status.idle": "2024-05-20T09:35:39.027702Z",
     "shell.execute_reply": "2024-05-20T09:35:39.025829Z"
    },
    "papermill": {
     "duration": 0.043694,
     "end_time": "2024-05-20T09:35:39.030407",
     "exception": false,
     "start_time": "2024-05-20T09:35:38.986713",
     "status": "completed"
    },
    "tags": []
   },
   "outputs": [
    {
     "data": {
      "text/html": [
       "<div>\n",
       "<style scoped>\n",
       "    .dataframe tbody tr th:only-of-type {\n",
       "        vertical-align: middle;\n",
       "    }\n",
       "\n",
       "    .dataframe tbody tr th {\n",
       "        vertical-align: top;\n",
       "    }\n",
       "\n",
       "    .dataframe thead th {\n",
       "        text-align: right;\n",
       "    }\n",
       "</style>\n",
       "<table border=\"1\" class=\"dataframe\">\n",
       "  <thead>\n",
       "    <tr style=\"text-align: right;\">\n",
       "      <th></th>\n",
       "      <th>Name</th>\n",
       "      <th>Mileage</th>\n",
       "      <th>Rating</th>\n",
       "      <th>Review Count</th>\n",
       "      <th>Price</th>\n",
       "    </tr>\n",
       "  </thead>\n",
       "  <tbody>\n",
       "    <tr>\n",
       "      <th>0</th>\n",
       "      <td>2021 Mercedes-Benz A-Class A 220 4MATIC</td>\n",
       "      <td>29,636 mi.</td>\n",
       "      <td>3.9</td>\n",
       "      <td>1,800</td>\n",
       "      <td>$30,900</td>\n",
       "    </tr>\n",
       "    <tr>\n",
       "      <th>1</th>\n",
       "      <td>2022 Mercedes-Benz AMG SL 63 Base</td>\n",
       "      <td>5,540 mi.</td>\n",
       "      <td>4.7</td>\n",
       "      <td>1,239</td>\n",
       "      <td>$139,999</td>\n",
       "    </tr>\n",
       "    <tr>\n",
       "      <th>2</th>\n",
       "      <td>2022 Mercedes-Benz AMG SL 63 Base</td>\n",
       "      <td>4,890 mi.</td>\n",
       "      <td>4.7</td>\n",
       "      <td>1,239</td>\n",
       "      <td>$132,999</td>\n",
       "    </tr>\n",
       "    <tr>\n",
       "      <th>3</th>\n",
       "      <td>2020 Mercedes-Benz AMG E 53 Base 4MATIC</td>\n",
       "      <td>29,746 mi.</td>\n",
       "      <td>4.8</td>\n",
       "      <td>752</td>\n",
       "      <td>$58,587</td>\n",
       "    </tr>\n",
       "    <tr>\n",
       "      <th>4</th>\n",
       "      <td>2021 Mercedes-Benz AMG GLS 63 Base 4MATIC</td>\n",
       "      <td>32,631 mi.</td>\n",
       "      <td>5.0</td>\n",
       "      <td>1,502</td>\n",
       "      <td>$95,990</td>\n",
       "    </tr>\n",
       "  </tbody>\n",
       "</table>\n",
       "</div>"
      ],
      "text/plain": [
       "                                        Name     Mileage  Rating Review Count  \\\n",
       "0    2021 Mercedes-Benz A-Class A 220 4MATIC  29,636 mi.     3.9       1,800    \n",
       "1          2022 Mercedes-Benz AMG SL 63 Base   5,540 mi.     4.7       1,239    \n",
       "2          2022 Mercedes-Benz AMG SL 63 Base   4,890 mi.     4.7       1,239    \n",
       "3    2020 Mercedes-Benz AMG E 53 Base 4MATIC  29,746 mi.     4.8         752    \n",
       "4  2021 Mercedes-Benz AMG GLS 63 Base 4MATIC  32,631 mi.     5.0       1,502    \n",
       "\n",
       "      Price  \n",
       "0   $30,900  \n",
       "1  $139,999  \n",
       "2  $132,999  \n",
       "3   $58,587  \n",
       "4   $95,990  "
      ]
     },
     "execution_count": 3,
     "metadata": {},
     "output_type": "execute_result"
    }
   ],
   "source": [
    "df.head()"
   ]
  },
  {
   "cell_type": "code",
   "execution_count": 4,
   "id": "f6d5a4bb",
   "metadata": {
    "execution": {
     "iopub.execute_input": "2024-05-20T09:35:39.059649Z",
     "iopub.status.busy": "2024-05-20T09:35:39.058573Z",
     "iopub.status.idle": "2024-05-20T09:35:39.084895Z",
     "shell.execute_reply": "2024-05-20T09:35:39.083311Z"
    },
    "papermill": {
     "duration": 0.043995,
     "end_time": "2024-05-20T09:35:39.087572",
     "exception": false,
     "start_time": "2024-05-20T09:35:39.043577",
     "status": "completed"
    },
    "tags": []
   },
   "outputs": [
    {
     "name": "stdout",
     "output_type": "stream",
     "text": [
      "<class 'pandas.core.frame.DataFrame'>\n",
      "RangeIndex: 2429 entries, 0 to 2428\n",
      "Data columns (total 5 columns):\n",
      " #   Column        Non-Null Count  Dtype  \n",
      "---  ------        --------------  -----  \n",
      " 0   Name          2429 non-null   object \n",
      " 1   Mileage       2429 non-null   object \n",
      " 2   Rating        2135 non-null   float64\n",
      " 3   Review Count  2398 non-null   object \n",
      " 4   Price         2429 non-null   object \n",
      "dtypes: float64(1), object(4)\n",
      "memory usage: 95.0+ KB\n"
     ]
    }
   ],
   "source": [
    "df.info()"
   ]
  },
  {
   "cell_type": "markdown",
   "id": "382655d8",
   "metadata": {
    "papermill": {
     "duration": 0.013358,
     "end_time": "2024-05-20T09:35:39.114258",
     "exception": false,
     "start_time": "2024-05-20T09:35:39.100900",
     "status": "completed"
    },
    "tags": []
   },
   "source": [
    "## Data Cleaning:¶¶\n",
    "Remove Unwanted Letters:\n",
    "I want to remove something which is apperaing with any cloumn"
   ]
  },
  {
   "cell_type": "code",
   "execution_count": 5,
   "id": "b33ee841",
   "metadata": {
    "execution": {
     "iopub.execute_input": "2024-05-20T09:35:39.143951Z",
     "iopub.status.busy": "2024-05-20T09:35:39.143561Z",
     "iopub.status.idle": "2024-05-20T09:35:39.152163Z",
     "shell.execute_reply": "2024-05-20T09:35:39.150861Z"
    },
    "papermill": {
     "duration": 0.026868,
     "end_time": "2024-05-20T09:35:39.154607",
     "exception": false,
     "start_time": "2024-05-20T09:35:39.127739",
     "status": "completed"
    },
    "tags": []
   },
   "outputs": [],
   "source": [
    "# Remove 'mi.' from Mileage column\n",
    "df['Mileage'] = df['Mileage'].str.replace(' mi.', '')"
   ]
  },
  {
   "cell_type": "code",
   "execution_count": 6,
   "id": "7eee3e47",
   "metadata": {
    "execution": {
     "iopub.execute_input": "2024-05-20T09:35:39.186436Z",
     "iopub.status.busy": "2024-05-20T09:35:39.185357Z",
     "iopub.status.idle": "2024-05-20T09:35:39.198433Z",
     "shell.execute_reply": "2024-05-20T09:35:39.197348Z"
    },
    "papermill": {
     "duration": 0.031335,
     "end_time": "2024-05-20T09:35:39.201114",
     "exception": false,
     "start_time": "2024-05-20T09:35:39.169779",
     "status": "completed"
    },
    "tags": []
   },
   "outputs": [
    {
     "data": {
      "text/html": [
       "<div>\n",
       "<style scoped>\n",
       "    .dataframe tbody tr th:only-of-type {\n",
       "        vertical-align: middle;\n",
       "    }\n",
       "\n",
       "    .dataframe tbody tr th {\n",
       "        vertical-align: top;\n",
       "    }\n",
       "\n",
       "    .dataframe thead th {\n",
       "        text-align: right;\n",
       "    }\n",
       "</style>\n",
       "<table border=\"1\" class=\"dataframe\">\n",
       "  <thead>\n",
       "    <tr style=\"text-align: right;\">\n",
       "      <th></th>\n",
       "      <th>Name</th>\n",
       "      <th>Mileage</th>\n",
       "      <th>Rating</th>\n",
       "      <th>Review Count</th>\n",
       "      <th>Price</th>\n",
       "    </tr>\n",
       "  </thead>\n",
       "  <tbody>\n",
       "    <tr>\n",
       "      <th>0</th>\n",
       "      <td>2021 Mercedes-Benz A-Class A 220 4MATIC</td>\n",
       "      <td>29,636</td>\n",
       "      <td>3.9</td>\n",
       "      <td>1,800</td>\n",
       "      <td>$30,900</td>\n",
       "    </tr>\n",
       "    <tr>\n",
       "      <th>1</th>\n",
       "      <td>2022 Mercedes-Benz AMG SL 63 Base</td>\n",
       "      <td>5,540</td>\n",
       "      <td>4.7</td>\n",
       "      <td>1,239</td>\n",
       "      <td>$139,999</td>\n",
       "    </tr>\n",
       "    <tr>\n",
       "      <th>2</th>\n",
       "      <td>2022 Mercedes-Benz AMG SL 63 Base</td>\n",
       "      <td>4,890</td>\n",
       "      <td>4.7</td>\n",
       "      <td>1,239</td>\n",
       "      <td>$132,999</td>\n",
       "    </tr>\n",
       "    <tr>\n",
       "      <th>3</th>\n",
       "      <td>2020 Mercedes-Benz AMG E 53 Base 4MATIC</td>\n",
       "      <td>29,746</td>\n",
       "      <td>4.8</td>\n",
       "      <td>752</td>\n",
       "      <td>$58,587</td>\n",
       "    </tr>\n",
       "    <tr>\n",
       "      <th>4</th>\n",
       "      <td>2021 Mercedes-Benz AMG GLS 63 Base 4MATIC</td>\n",
       "      <td>32,631</td>\n",
       "      <td>5.0</td>\n",
       "      <td>1,502</td>\n",
       "      <td>$95,990</td>\n",
       "    </tr>\n",
       "  </tbody>\n",
       "</table>\n",
       "</div>"
      ],
      "text/plain": [
       "                                        Name Mileage  Rating Review Count  \\\n",
       "0    2021 Mercedes-Benz A-Class A 220 4MATIC  29,636     3.9       1,800    \n",
       "1          2022 Mercedes-Benz AMG SL 63 Base   5,540     4.7       1,239    \n",
       "2          2022 Mercedes-Benz AMG SL 63 Base   4,890     4.7       1,239    \n",
       "3    2020 Mercedes-Benz AMG E 53 Base 4MATIC  29,746     4.8         752    \n",
       "4  2021 Mercedes-Benz AMG GLS 63 Base 4MATIC  32,631     5.0       1,502    \n",
       "\n",
       "      Price  \n",
       "0   $30,900  \n",
       "1  $139,999  \n",
       "2  $132,999  \n",
       "3   $58,587  \n",
       "4   $95,990  "
      ]
     },
     "execution_count": 6,
     "metadata": {},
     "output_type": "execute_result"
    }
   ],
   "source": [
    "df.head()"
   ]
  },
  {
   "cell_type": "code",
   "execution_count": 7,
   "id": "6a2dd2bc",
   "metadata": {
    "execution": {
     "iopub.execute_input": "2024-05-20T09:35:39.231527Z",
     "iopub.status.busy": "2024-05-20T09:35:39.230860Z",
     "iopub.status.idle": "2024-05-20T09:35:39.238169Z",
     "shell.execute_reply": "2024-05-20T09:35:39.237153Z"
    },
    "papermill": {
     "duration": 0.025792,
     "end_time": "2024-05-20T09:35:39.240989",
     "exception": false,
     "start_time": "2024-05-20T09:35:39.215197",
     "status": "completed"
    },
    "tags": []
   },
   "outputs": [],
   "source": [
    "# Remove '$.' from Price column\n",
    "df['Price'] = df['Price'].str.replace('$', '')"
   ]
  },
  {
   "cell_type": "code",
   "execution_count": 8,
   "id": "c652583f",
   "metadata": {
    "execution": {
     "iopub.execute_input": "2024-05-20T09:35:39.274418Z",
     "iopub.status.busy": "2024-05-20T09:35:39.273999Z",
     "iopub.status.idle": "2024-05-20T09:35:39.288467Z",
     "shell.execute_reply": "2024-05-20T09:35:39.287190Z"
    },
    "papermill": {
     "duration": 0.034821,
     "end_time": "2024-05-20T09:35:39.290897",
     "exception": false,
     "start_time": "2024-05-20T09:35:39.256076",
     "status": "completed"
    },
    "tags": []
   },
   "outputs": [
    {
     "data": {
      "text/html": [
       "<div>\n",
       "<style scoped>\n",
       "    .dataframe tbody tr th:only-of-type {\n",
       "        vertical-align: middle;\n",
       "    }\n",
       "\n",
       "    .dataframe tbody tr th {\n",
       "        vertical-align: top;\n",
       "    }\n",
       "\n",
       "    .dataframe thead th {\n",
       "        text-align: right;\n",
       "    }\n",
       "</style>\n",
       "<table border=\"1\" class=\"dataframe\">\n",
       "  <thead>\n",
       "    <tr style=\"text-align: right;\">\n",
       "      <th></th>\n",
       "      <th>Name</th>\n",
       "      <th>Mileage</th>\n",
       "      <th>Rating</th>\n",
       "      <th>Review Count</th>\n",
       "      <th>Price</th>\n",
       "    </tr>\n",
       "  </thead>\n",
       "  <tbody>\n",
       "    <tr>\n",
       "      <th>0</th>\n",
       "      <td>2021 Mercedes-Benz A-Class A 220 4MATIC</td>\n",
       "      <td>29,636</td>\n",
       "      <td>3.9</td>\n",
       "      <td>1,800</td>\n",
       "      <td>30,900</td>\n",
       "    </tr>\n",
       "    <tr>\n",
       "      <th>1</th>\n",
       "      <td>2022 Mercedes-Benz AMG SL 63 Base</td>\n",
       "      <td>5,540</td>\n",
       "      <td>4.7</td>\n",
       "      <td>1,239</td>\n",
       "      <td>139,999</td>\n",
       "    </tr>\n",
       "    <tr>\n",
       "      <th>2</th>\n",
       "      <td>2022 Mercedes-Benz AMG SL 63 Base</td>\n",
       "      <td>4,890</td>\n",
       "      <td>4.7</td>\n",
       "      <td>1,239</td>\n",
       "      <td>132,999</td>\n",
       "    </tr>\n",
       "    <tr>\n",
       "      <th>3</th>\n",
       "      <td>2020 Mercedes-Benz AMG E 53 Base 4MATIC</td>\n",
       "      <td>29,746</td>\n",
       "      <td>4.8</td>\n",
       "      <td>752</td>\n",
       "      <td>58,587</td>\n",
       "    </tr>\n",
       "    <tr>\n",
       "      <th>4</th>\n",
       "      <td>2021 Mercedes-Benz AMG GLS 63 Base 4MATIC</td>\n",
       "      <td>32,631</td>\n",
       "      <td>5.0</td>\n",
       "      <td>1,502</td>\n",
       "      <td>95,990</td>\n",
       "    </tr>\n",
       "  </tbody>\n",
       "</table>\n",
       "</div>"
      ],
      "text/plain": [
       "                                        Name Mileage  Rating Review Count  \\\n",
       "0    2021 Mercedes-Benz A-Class A 220 4MATIC  29,636     3.9       1,800    \n",
       "1          2022 Mercedes-Benz AMG SL 63 Base   5,540     4.7       1,239    \n",
       "2          2022 Mercedes-Benz AMG SL 63 Base   4,890     4.7       1,239    \n",
       "3    2020 Mercedes-Benz AMG E 53 Base 4MATIC  29,746     4.8         752    \n",
       "4  2021 Mercedes-Benz AMG GLS 63 Base 4MATIC  32,631     5.0       1,502    \n",
       "\n",
       "     Price  \n",
       "0   30,900  \n",
       "1  139,999  \n",
       "2  132,999  \n",
       "3   58,587  \n",
       "4   95,990  "
      ]
     },
     "execution_count": 8,
     "metadata": {},
     "output_type": "execute_result"
    }
   ],
   "source": [
    "df.head()"
   ]
  },
  {
   "cell_type": "markdown",
   "id": "e9b468e5",
   "metadata": {
    "papermill": {
     "duration": 0.014904,
     "end_time": "2024-05-20T09:35:39.320323",
     "exception": false,
     "start_time": "2024-05-20T09:35:39.305419",
     "status": "completed"
    },
    "tags": []
   },
   "source": [
    "## Rename column:\n",
    "I want to add miles with mileage for better understanding and dollar sign with price"
   ]
  },
  {
   "cell_type": "code",
   "execution_count": 9,
   "id": "82fb774b",
   "metadata": {
    "execution": {
     "iopub.execute_input": "2024-05-20T09:35:39.353145Z",
     "iopub.status.busy": "2024-05-20T09:35:39.352729Z",
     "iopub.status.idle": "2024-05-20T09:35:39.358637Z",
     "shell.execute_reply": "2024-05-20T09:35:39.357316Z"
    },
    "papermill": {
     "duration": 0.025165,
     "end_time": "2024-05-20T09:35:39.361080",
     "exception": false,
     "start_time": "2024-05-20T09:35:39.335915",
     "status": "completed"
    },
    "tags": []
   },
   "outputs": [],
   "source": [
    "df.rename(columns={'Mileage': 'Mileage (miles)'}, inplace=True)"
   ]
  },
  {
   "cell_type": "code",
   "execution_count": 10,
   "id": "ff953e3a",
   "metadata": {
    "execution": {
     "iopub.execute_input": "2024-05-20T09:35:39.392540Z",
     "iopub.status.busy": "2024-05-20T09:35:39.391110Z",
     "iopub.status.idle": "2024-05-20T09:35:39.397393Z",
     "shell.execute_reply": "2024-05-20T09:35:39.396457Z"
    },
    "papermill": {
     "duration": 0.024365,
     "end_time": "2024-05-20T09:35:39.399783",
     "exception": false,
     "start_time": "2024-05-20T09:35:39.375418",
     "status": "completed"
    },
    "tags": []
   },
   "outputs": [],
   "source": [
    "df.rename(columns={'Price': 'Price (US$)'}, inplace=True)"
   ]
  },
  {
   "cell_type": "code",
   "execution_count": 11,
   "id": "484642c7",
   "metadata": {
    "execution": {
     "iopub.execute_input": "2024-05-20T09:35:39.432404Z",
     "iopub.status.busy": "2024-05-20T09:35:39.431738Z",
     "iopub.status.idle": "2024-05-20T09:35:39.446354Z",
     "shell.execute_reply": "2024-05-20T09:35:39.445195Z"
    },
    "papermill": {
     "duration": 0.032954,
     "end_time": "2024-05-20T09:35:39.448944",
     "exception": false,
     "start_time": "2024-05-20T09:35:39.415990",
     "status": "completed"
    },
    "tags": []
   },
   "outputs": [
    {
     "data": {
      "text/html": [
       "<div>\n",
       "<style scoped>\n",
       "    .dataframe tbody tr th:only-of-type {\n",
       "        vertical-align: middle;\n",
       "    }\n",
       "\n",
       "    .dataframe tbody tr th {\n",
       "        vertical-align: top;\n",
       "    }\n",
       "\n",
       "    .dataframe thead th {\n",
       "        text-align: right;\n",
       "    }\n",
       "</style>\n",
       "<table border=\"1\" class=\"dataframe\">\n",
       "  <thead>\n",
       "    <tr style=\"text-align: right;\">\n",
       "      <th></th>\n",
       "      <th>Name</th>\n",
       "      <th>Mileage (miles)</th>\n",
       "      <th>Rating</th>\n",
       "      <th>Review Count</th>\n",
       "      <th>Price (US$)</th>\n",
       "    </tr>\n",
       "  </thead>\n",
       "  <tbody>\n",
       "    <tr>\n",
       "      <th>0</th>\n",
       "      <td>2021 Mercedes-Benz A-Class A 220 4MATIC</td>\n",
       "      <td>29,636</td>\n",
       "      <td>3.9</td>\n",
       "      <td>1,800</td>\n",
       "      <td>30,900</td>\n",
       "    </tr>\n",
       "    <tr>\n",
       "      <th>1</th>\n",
       "      <td>2022 Mercedes-Benz AMG SL 63 Base</td>\n",
       "      <td>5,540</td>\n",
       "      <td>4.7</td>\n",
       "      <td>1,239</td>\n",
       "      <td>139,999</td>\n",
       "    </tr>\n",
       "    <tr>\n",
       "      <th>2</th>\n",
       "      <td>2022 Mercedes-Benz AMG SL 63 Base</td>\n",
       "      <td>4,890</td>\n",
       "      <td>4.7</td>\n",
       "      <td>1,239</td>\n",
       "      <td>132,999</td>\n",
       "    </tr>\n",
       "    <tr>\n",
       "      <th>3</th>\n",
       "      <td>2020 Mercedes-Benz AMG E 53 Base 4MATIC</td>\n",
       "      <td>29,746</td>\n",
       "      <td>4.8</td>\n",
       "      <td>752</td>\n",
       "      <td>58,587</td>\n",
       "    </tr>\n",
       "    <tr>\n",
       "      <th>4</th>\n",
       "      <td>2021 Mercedes-Benz AMG GLS 63 Base 4MATIC</td>\n",
       "      <td>32,631</td>\n",
       "      <td>5.0</td>\n",
       "      <td>1,502</td>\n",
       "      <td>95,990</td>\n",
       "    </tr>\n",
       "  </tbody>\n",
       "</table>\n",
       "</div>"
      ],
      "text/plain": [
       "                                        Name Mileage (miles)  Rating  \\\n",
       "0    2021 Mercedes-Benz A-Class A 220 4MATIC          29,636     3.9   \n",
       "1          2022 Mercedes-Benz AMG SL 63 Base           5,540     4.7   \n",
       "2          2022 Mercedes-Benz AMG SL 63 Base           4,890     4.7   \n",
       "3    2020 Mercedes-Benz AMG E 53 Base 4MATIC          29,746     4.8   \n",
       "4  2021 Mercedes-Benz AMG GLS 63 Base 4MATIC          32,631     5.0   \n",
       "\n",
       "  Review Count Price (US$)  \n",
       "0       1,800       30,900  \n",
       "1       1,239      139,999  \n",
       "2       1,239      132,999  \n",
       "3         752       58,587  \n",
       "4       1,502       95,990  "
      ]
     },
     "execution_count": 11,
     "metadata": {},
     "output_type": "execute_result"
    }
   ],
   "source": [
    "df.head()"
   ]
  },
  {
   "cell_type": "markdown",
   "id": "3f124a8e",
   "metadata": {
    "papermill": {
     "duration": 0.01374,
     "end_time": "2024-05-20T09:35:39.477217",
     "exception": false,
     "start_time": "2024-05-20T09:35:39.463477",
     "status": "completed"
    },
    "tags": []
   },
   "source": [
    "## Make Model Year column:¶\n",
    "Adding column for Model year"
   ]
  },
  {
   "cell_type": "code",
   "execution_count": 12,
   "id": "d4adbcc5",
   "metadata": {
    "execution": {
     "iopub.execute_input": "2024-05-20T09:35:39.508367Z",
     "iopub.status.busy": "2024-05-20T09:35:39.507593Z",
     "iopub.status.idle": "2024-05-20T09:35:39.520064Z",
     "shell.execute_reply": "2024-05-20T09:35:39.519048Z"
    },
    "papermill": {
     "duration": 0.031936,
     "end_time": "2024-05-20T09:35:39.523032",
     "exception": false,
     "start_time": "2024-05-20T09:35:39.491096",
     "status": "completed"
    },
    "tags": []
   },
   "outputs": [],
   "source": [
    "# Extracting model year from the 'Name' column\n",
    "df['Model Year'] = df['Name'].str.extract(r'(\\d{4})')"
   ]
  },
  {
   "cell_type": "code",
   "execution_count": 13,
   "id": "f8ee4a47",
   "metadata": {
    "execution": {
     "iopub.execute_input": "2024-05-20T09:35:39.553461Z",
     "iopub.status.busy": "2024-05-20T09:35:39.552658Z",
     "iopub.status.idle": "2024-05-20T09:35:39.567484Z",
     "shell.execute_reply": "2024-05-20T09:35:39.566205Z"
    },
    "papermill": {
     "duration": 0.033426,
     "end_time": "2024-05-20T09:35:39.570429",
     "exception": false,
     "start_time": "2024-05-20T09:35:39.537003",
     "status": "completed"
    },
    "tags": []
   },
   "outputs": [
    {
     "data": {
      "text/html": [
       "<div>\n",
       "<style scoped>\n",
       "    .dataframe tbody tr th:only-of-type {\n",
       "        vertical-align: middle;\n",
       "    }\n",
       "\n",
       "    .dataframe tbody tr th {\n",
       "        vertical-align: top;\n",
       "    }\n",
       "\n",
       "    .dataframe thead th {\n",
       "        text-align: right;\n",
       "    }\n",
       "</style>\n",
       "<table border=\"1\" class=\"dataframe\">\n",
       "  <thead>\n",
       "    <tr style=\"text-align: right;\">\n",
       "      <th></th>\n",
       "      <th>Name</th>\n",
       "      <th>Mileage (miles)</th>\n",
       "      <th>Rating</th>\n",
       "      <th>Review Count</th>\n",
       "      <th>Price (US$)</th>\n",
       "      <th>Model Year</th>\n",
       "    </tr>\n",
       "  </thead>\n",
       "  <tbody>\n",
       "    <tr>\n",
       "      <th>0</th>\n",
       "      <td>2021 Mercedes-Benz A-Class A 220 4MATIC</td>\n",
       "      <td>29,636</td>\n",
       "      <td>3.9</td>\n",
       "      <td>1,800</td>\n",
       "      <td>30,900</td>\n",
       "      <td>2021</td>\n",
       "    </tr>\n",
       "    <tr>\n",
       "      <th>1</th>\n",
       "      <td>2022 Mercedes-Benz AMG SL 63 Base</td>\n",
       "      <td>5,540</td>\n",
       "      <td>4.7</td>\n",
       "      <td>1,239</td>\n",
       "      <td>139,999</td>\n",
       "      <td>2022</td>\n",
       "    </tr>\n",
       "    <tr>\n",
       "      <th>2</th>\n",
       "      <td>2022 Mercedes-Benz AMG SL 63 Base</td>\n",
       "      <td>4,890</td>\n",
       "      <td>4.7</td>\n",
       "      <td>1,239</td>\n",
       "      <td>132,999</td>\n",
       "      <td>2022</td>\n",
       "    </tr>\n",
       "    <tr>\n",
       "      <th>3</th>\n",
       "      <td>2020 Mercedes-Benz AMG E 53 Base 4MATIC</td>\n",
       "      <td>29,746</td>\n",
       "      <td>4.8</td>\n",
       "      <td>752</td>\n",
       "      <td>58,587</td>\n",
       "      <td>2020</td>\n",
       "    </tr>\n",
       "    <tr>\n",
       "      <th>4</th>\n",
       "      <td>2021 Mercedes-Benz AMG GLS 63 Base 4MATIC</td>\n",
       "      <td>32,631</td>\n",
       "      <td>5.0</td>\n",
       "      <td>1,502</td>\n",
       "      <td>95,990</td>\n",
       "      <td>2021</td>\n",
       "    </tr>\n",
       "  </tbody>\n",
       "</table>\n",
       "</div>"
      ],
      "text/plain": [
       "                                        Name Mileage (miles)  Rating  \\\n",
       "0    2021 Mercedes-Benz A-Class A 220 4MATIC          29,636     3.9   \n",
       "1          2022 Mercedes-Benz AMG SL 63 Base           5,540     4.7   \n",
       "2          2022 Mercedes-Benz AMG SL 63 Base           4,890     4.7   \n",
       "3    2020 Mercedes-Benz AMG E 53 Base 4MATIC          29,746     4.8   \n",
       "4  2021 Mercedes-Benz AMG GLS 63 Base 4MATIC          32,631     5.0   \n",
       "\n",
       "  Review Count Price (US$) Model Year  \n",
       "0       1,800       30,900       2021  \n",
       "1       1,239      139,999       2022  \n",
       "2       1,239      132,999       2022  \n",
       "3         752       58,587       2020  \n",
       "4       1,502       95,990       2021  "
      ]
     },
     "execution_count": 13,
     "metadata": {},
     "output_type": "execute_result"
    }
   ],
   "source": [
    "df.head()"
   ]
  },
  {
   "cell_type": "markdown",
   "id": "c3cbbce7",
   "metadata": {
    "papermill": {
     "duration": 0.01409,
     "end_time": "2024-05-20T09:35:39.599245",
     "exception": false,
     "start_time": "2024-05-20T09:35:39.585155",
     "status": "completed"
    },
    "tags": []
   },
   "source": [
    "## Remove year from Name:¶¶\n",
    "I added a model year column, so I don't want the model year to be included with the model name."
   ]
  },
  {
   "cell_type": "code",
   "execution_count": 14,
   "id": "5c04cbe2",
   "metadata": {
    "execution": {
     "iopub.execute_input": "2024-05-20T09:35:39.631416Z",
     "iopub.status.busy": "2024-05-20T09:35:39.630485Z",
     "iopub.status.idle": "2024-05-20T09:35:39.657874Z",
     "shell.execute_reply": "2024-05-20T09:35:39.656622Z"
    },
    "papermill": {
     "duration": 0.046225,
     "end_time": "2024-05-20T09:35:39.660657",
     "exception": false,
     "start_time": "2024-05-20T09:35:39.614432",
     "status": "completed"
    },
    "tags": []
   },
   "outputs": [
    {
     "data": {
      "text/html": [
       "<div>\n",
       "<style scoped>\n",
       "    .dataframe tbody tr th:only-of-type {\n",
       "        vertical-align: middle;\n",
       "    }\n",
       "\n",
       "    .dataframe tbody tr th {\n",
       "        vertical-align: top;\n",
       "    }\n",
       "\n",
       "    .dataframe thead th {\n",
       "        text-align: right;\n",
       "    }\n",
       "</style>\n",
       "<table border=\"1\" class=\"dataframe\">\n",
       "  <thead>\n",
       "    <tr style=\"text-align: right;\">\n",
       "      <th></th>\n",
       "      <th>Name</th>\n",
       "      <th>Mileage (miles)</th>\n",
       "      <th>Rating</th>\n",
       "      <th>Review Count</th>\n",
       "      <th>Price (US$)</th>\n",
       "      <th>Model Year</th>\n",
       "    </tr>\n",
       "  </thead>\n",
       "  <tbody>\n",
       "    <tr>\n",
       "      <th>0</th>\n",
       "      <td>Mercedes-Benz A-Class A 220 4MATIC</td>\n",
       "      <td>29,636</td>\n",
       "      <td>3.9</td>\n",
       "      <td>1,800</td>\n",
       "      <td>30,900</td>\n",
       "      <td>2021</td>\n",
       "    </tr>\n",
       "    <tr>\n",
       "      <th>1</th>\n",
       "      <td>Mercedes-Benz AMG SL 63 Base</td>\n",
       "      <td>5,540</td>\n",
       "      <td>4.7</td>\n",
       "      <td>1,239</td>\n",
       "      <td>139,999</td>\n",
       "      <td>2022</td>\n",
       "    </tr>\n",
       "    <tr>\n",
       "      <th>2</th>\n",
       "      <td>Mercedes-Benz AMG SL 63 Base</td>\n",
       "      <td>4,890</td>\n",
       "      <td>4.7</td>\n",
       "      <td>1,239</td>\n",
       "      <td>132,999</td>\n",
       "      <td>2022</td>\n",
       "    </tr>\n",
       "    <tr>\n",
       "      <th>3</th>\n",
       "      <td>Mercedes-Benz AMG E 53 Base 4MATIC</td>\n",
       "      <td>29,746</td>\n",
       "      <td>4.8</td>\n",
       "      <td>752</td>\n",
       "      <td>58,587</td>\n",
       "      <td>2020</td>\n",
       "    </tr>\n",
       "    <tr>\n",
       "      <th>4</th>\n",
       "      <td>Mercedes-Benz AMG GLS 63 Base 4MATIC</td>\n",
       "      <td>32,631</td>\n",
       "      <td>5.0</td>\n",
       "      <td>1,502</td>\n",
       "      <td>95,990</td>\n",
       "      <td>2021</td>\n",
       "    </tr>\n",
       "  </tbody>\n",
       "</table>\n",
       "</div>"
      ],
      "text/plain": [
       "                                   Name Mileage (miles)  Rating Review Count  \\\n",
       "0    Mercedes-Benz A-Class A 220 4MATIC          29,636     3.9       1,800    \n",
       "1          Mercedes-Benz AMG SL 63 Base           5,540     4.7       1,239    \n",
       "2          Mercedes-Benz AMG SL 63 Base           4,890     4.7       1,239    \n",
       "3    Mercedes-Benz AMG E 53 Base 4MATIC          29,746     4.8         752    \n",
       "4  Mercedes-Benz AMG GLS 63 Base 4MATIC          32,631     5.0       1,502    \n",
       "\n",
       "  Price (US$) Model Year  \n",
       "0      30,900       2021  \n",
       "1     139,999       2022  \n",
       "2     132,999       2022  \n",
       "3      58,587       2020  \n",
       "4      95,990       2021  "
      ]
     },
     "execution_count": 14,
     "metadata": {},
     "output_type": "execute_result"
    }
   ],
   "source": [
    "df['Name'] = df['Name'].apply(lambda x: re.sub(r'\\b\\d{4}\\b\\s*', '', x).strip())\n",
    "df.head()"
   ]
  },
  {
   "cell_type": "code",
   "execution_count": 15,
   "id": "1a7c32f0",
   "metadata": {
    "execution": {
     "iopub.execute_input": "2024-05-20T09:35:39.691540Z",
     "iopub.status.busy": "2024-05-20T09:35:39.691074Z",
     "iopub.status.idle": "2024-05-20T09:35:39.705257Z",
     "shell.execute_reply": "2024-05-20T09:35:39.704270Z"
    },
    "papermill": {
     "duration": 0.032547,
     "end_time": "2024-05-20T09:35:39.707764",
     "exception": false,
     "start_time": "2024-05-20T09:35:39.675217",
     "status": "completed"
    },
    "tags": []
   },
   "outputs": [
    {
     "name": "stdout",
     "output_type": "stream",
     "text": [
      "<class 'pandas.core.frame.DataFrame'>\n",
      "RangeIndex: 2429 entries, 0 to 2428\n",
      "Data columns (total 6 columns):\n",
      " #   Column           Non-Null Count  Dtype  \n",
      "---  ------           --------------  -----  \n",
      " 0   Name             2429 non-null   object \n",
      " 1   Mileage (miles)  2429 non-null   object \n",
      " 2   Rating           2135 non-null   float64\n",
      " 3   Review Count     2398 non-null   object \n",
      " 4   Price (US$)      2429 non-null   object \n",
      " 5   Model Year       2429 non-null   object \n",
      "dtypes: float64(1), object(5)\n",
      "memory usage: 114.0+ KB\n"
     ]
    }
   ],
   "source": [
    "df.info()"
   ]
  },
  {
   "cell_type": "markdown",
   "id": "34e7f631",
   "metadata": {
    "papermill": {
     "duration": 0.014302,
     "end_time": "2024-05-20T09:35:39.736764",
     "exception": false,
     "start_time": "2024-05-20T09:35:39.722462",
     "status": "completed"
    },
    "tags": []
   },
   "source": [
    "## Convert data type:"
   ]
  },
  {
   "cell_type": "code",
   "execution_count": 16,
   "id": "d85eed5d",
   "metadata": {
    "execution": {
     "iopub.execute_input": "2024-05-20T09:35:39.767743Z",
     "iopub.status.busy": "2024-05-20T09:35:39.767318Z",
     "iopub.status.idle": "2024-05-20T09:35:39.778542Z",
     "shell.execute_reply": "2024-05-20T09:35:39.777524Z"
    },
    "papermill": {
     "duration": 0.029515,
     "end_time": "2024-05-20T09:35:39.780817",
     "exception": false,
     "start_time": "2024-05-20T09:35:39.751302",
     "status": "completed"
    },
    "tags": []
   },
   "outputs": [],
   "source": [
    "df['Mileage (miles)'] = df['Mileage (miles)'].str.replace(',', '')\n",
    "df['Review Count'] = df['Review Count'].str.replace(',', '')\n",
    "df['Price (US$)'] = df['Price (US$)'].replace(',', '')"
   ]
  },
  {
   "cell_type": "markdown",
   "id": "d61f60ac",
   "metadata": {
    "papermill": {
     "duration": 0.014324,
     "end_time": "2024-05-20T09:35:39.810147",
     "exception": false,
     "start_time": "2024-05-20T09:35:39.795823",
     "status": "completed"
    },
    "tags": []
   },
   "source": [
    "## Convert year col to datetime type:¶¶\n",
    "I wanna change date in proper date format YYYY/MM/DD"
   ]
  },
  {
   "cell_type": "code",
   "execution_count": 17,
   "id": "2e32306d",
   "metadata": {
    "execution": {
     "iopub.execute_input": "2024-05-20T09:35:39.841713Z",
     "iopub.status.busy": "2024-05-20T09:35:39.840940Z",
     "iopub.status.idle": "2024-05-20T09:35:39.852668Z",
     "shell.execute_reply": "2024-05-20T09:35:39.851330Z"
    },
    "papermill": {
     "duration": 0.030715,
     "end_time": "2024-05-20T09:35:39.855481",
     "exception": false,
     "start_time": "2024-05-20T09:35:39.824766",
     "status": "completed"
    },
    "tags": []
   },
   "outputs": [],
   "source": [
    "# Convert 'Model Year' to date format\n",
    "df['Model Year'] = pd.to_datetime(df['Model Year'], format='%Y')"
   ]
  },
  {
   "cell_type": "code",
   "execution_count": 18,
   "id": "ea72caba",
   "metadata": {
    "execution": {
     "iopub.execute_input": "2024-05-20T09:35:39.886923Z",
     "iopub.status.busy": "2024-05-20T09:35:39.886475Z",
     "iopub.status.idle": "2024-05-20T09:35:39.901042Z",
     "shell.execute_reply": "2024-05-20T09:35:39.899781Z"
    },
    "papermill": {
     "duration": 0.032922,
     "end_time": "2024-05-20T09:35:39.903461",
     "exception": false,
     "start_time": "2024-05-20T09:35:39.870539",
     "status": "completed"
    },
    "tags": []
   },
   "outputs": [
    {
     "name": "stdout",
     "output_type": "stream",
     "text": [
      "<class 'pandas.core.frame.DataFrame'>\n",
      "RangeIndex: 2429 entries, 0 to 2428\n",
      "Data columns (total 6 columns):\n",
      " #   Column           Non-Null Count  Dtype         \n",
      "---  ------           --------------  -----         \n",
      " 0   Name             2429 non-null   object        \n",
      " 1   Mileage (miles)  2429 non-null   object        \n",
      " 2   Rating           2135 non-null   float64       \n",
      " 3   Review Count     2398 non-null   object        \n",
      " 4   Price (US$)      2429 non-null   object        \n",
      " 5   Model Year       2429 non-null   datetime64[ns]\n",
      "dtypes: datetime64[ns](1), float64(1), object(4)\n",
      "memory usage: 114.0+ KB\n"
     ]
    }
   ],
   "source": [
    "df.info()"
   ]
  },
  {
   "cell_type": "code",
   "execution_count": 19,
   "id": "a50b5fa4",
   "metadata": {
    "execution": {
     "iopub.execute_input": "2024-05-20T09:35:39.935672Z",
     "iopub.status.busy": "2024-05-20T09:35:39.934860Z",
     "iopub.status.idle": "2024-05-20T09:35:39.941590Z",
     "shell.execute_reply": "2024-05-20T09:35:39.940261Z"
    },
    "papermill": {
     "duration": 0.025493,
     "end_time": "2024-05-20T09:35:39.944083",
     "exception": false,
     "start_time": "2024-05-20T09:35:39.918590",
     "status": "completed"
    },
    "tags": []
   },
   "outputs": [],
   "source": [
    "# Convert 'Mileage (miles)'\n",
    "df['Mileage (miles)'] = df['Mileage (miles)'].astype(int)"
   ]
  },
  {
   "cell_type": "code",
   "execution_count": 20,
   "id": "880d798c",
   "metadata": {
    "execution": {
     "iopub.execute_input": "2024-05-20T09:35:39.976853Z",
     "iopub.status.busy": "2024-05-20T09:35:39.976419Z",
     "iopub.status.idle": "2024-05-20T09:35:39.993417Z",
     "shell.execute_reply": "2024-05-20T09:35:39.992182Z"
    },
    "papermill": {
     "duration": 0.036848,
     "end_time": "2024-05-20T09:35:39.996018",
     "exception": false,
     "start_time": "2024-05-20T09:35:39.959170",
     "status": "completed"
    },
    "tags": []
   },
   "outputs": [],
   "source": [
    "# Convert 'Price (US$)' column to integer\n",
    "df['Price (US$)'] = pd.to_numeric(df['Price (US$)'].replace('[$,]', '', regex=True), errors='coerce')\n",
    "\n",
    "# Convert 'Review Count' column to integer\n",
    "df['Review Count'] = pd.to_numeric(df['Review Count'], errors='coerce')"
   ]
  },
  {
   "cell_type": "code",
   "execution_count": 21,
   "id": "e7baa87f",
   "metadata": {
    "execution": {
     "iopub.execute_input": "2024-05-20T09:35:40.028674Z",
     "iopub.status.busy": "2024-05-20T09:35:40.028212Z",
     "iopub.status.idle": "2024-05-20T09:35:40.040819Z",
     "shell.execute_reply": "2024-05-20T09:35:40.038957Z"
    },
    "papermill": {
     "duration": 0.033094,
     "end_time": "2024-05-20T09:35:40.043883",
     "exception": false,
     "start_time": "2024-05-20T09:35:40.010789",
     "status": "completed"
    },
    "tags": []
   },
   "outputs": [
    {
     "name": "stdout",
     "output_type": "stream",
     "text": [
      "<class 'pandas.core.frame.DataFrame'>\n",
      "RangeIndex: 2429 entries, 0 to 2428\n",
      "Data columns (total 6 columns):\n",
      " #   Column           Non-Null Count  Dtype         \n",
      "---  ------           --------------  -----         \n",
      " 0   Name             2429 non-null   object        \n",
      " 1   Mileage (miles)  2429 non-null   int64         \n",
      " 2   Rating           2135 non-null   float64       \n",
      " 3   Review Count     2398 non-null   float64       \n",
      " 4   Price (US$)      2428 non-null   float64       \n",
      " 5   Model Year       2429 non-null   datetime64[ns]\n",
      "dtypes: datetime64[ns](1), float64(3), int64(1), object(1)\n",
      "memory usage: 114.0+ KB\n"
     ]
    }
   ],
   "source": [
    "df.info()"
   ]
  },
  {
   "cell_type": "markdown",
   "id": "557e5954",
   "metadata": {
    "papermill": {
     "duration": 0.01605,
     "end_time": "2024-05-20T09:35:40.075304",
     "exception": false,
     "start_time": "2024-05-20T09:35:40.059254",
     "status": "completed"
    },
    "tags": []
   },
   "source": [
    "## Check Null Values:\n",
    "Checking null values in our data is neccessary procces in data analysis"
   ]
  },
  {
   "cell_type": "code",
   "execution_count": 22,
   "id": "89d931ca",
   "metadata": {
    "execution": {
     "iopub.execute_input": "2024-05-20T09:35:40.108840Z",
     "iopub.status.busy": "2024-05-20T09:35:40.108263Z",
     "iopub.status.idle": "2024-05-20T09:35:40.118166Z",
     "shell.execute_reply": "2024-05-20T09:35:40.116951Z"
    },
    "papermill": {
     "duration": 0.029575,
     "end_time": "2024-05-20T09:35:40.120465",
     "exception": false,
     "start_time": "2024-05-20T09:35:40.090890",
     "status": "completed"
    },
    "tags": []
   },
   "outputs": [
    {
     "data": {
      "text/plain": [
       "Name                 0\n",
       "Mileage (miles)      0\n",
       "Rating             294\n",
       "Review Count        31\n",
       "Price (US$)          1\n",
       "Model Year           0\n",
       "dtype: int64"
      ]
     },
     "execution_count": 22,
     "metadata": {},
     "output_type": "execute_result"
    }
   ],
   "source": [
    "df.isnull().sum()"
   ]
  },
  {
   "cell_type": "code",
   "execution_count": 23,
   "id": "2f741b2c",
   "metadata": {
    "execution": {
     "iopub.execute_input": "2024-05-20T09:35:40.154497Z",
     "iopub.status.busy": "2024-05-20T09:35:40.154096Z",
     "iopub.status.idle": "2024-05-20T09:35:40.170178Z",
     "shell.execute_reply": "2024-05-20T09:35:40.169032Z"
    },
    "papermill": {
     "duration": 0.036695,
     "end_time": "2024-05-20T09:35:40.172588",
     "exception": false,
     "start_time": "2024-05-20T09:35:40.135893",
     "status": "completed"
    },
    "tags": []
   },
   "outputs": [
    {
     "data": {
      "text/html": [
       "<div>\n",
       "<style scoped>\n",
       "    .dataframe tbody tr th:only-of-type {\n",
       "        vertical-align: middle;\n",
       "    }\n",
       "\n",
       "    .dataframe tbody tr th {\n",
       "        vertical-align: top;\n",
       "    }\n",
       "\n",
       "    .dataframe thead th {\n",
       "        text-align: right;\n",
       "    }\n",
       "</style>\n",
       "<table border=\"1\" class=\"dataframe\">\n",
       "  <thead>\n",
       "    <tr style=\"text-align: right;\">\n",
       "      <th></th>\n",
       "      <th>Name</th>\n",
       "      <th>Mileage (miles)</th>\n",
       "      <th>Rating</th>\n",
       "      <th>Review Count</th>\n",
       "      <th>Price (US$)</th>\n",
       "      <th>Model Year</th>\n",
       "    </tr>\n",
       "  </thead>\n",
       "  <tbody>\n",
       "    <tr>\n",
       "      <th>0</th>\n",
       "      <td>Mercedes-Benz A-Class A 220 4MATIC</td>\n",
       "      <td>29636</td>\n",
       "      <td>3.9</td>\n",
       "      <td>1800.0</td>\n",
       "      <td>30900.0</td>\n",
       "      <td>2021-01-01</td>\n",
       "    </tr>\n",
       "    <tr>\n",
       "      <th>1</th>\n",
       "      <td>Mercedes-Benz AMG SL 63 Base</td>\n",
       "      <td>5540</td>\n",
       "      <td>4.7</td>\n",
       "      <td>1239.0</td>\n",
       "      <td>139999.0</td>\n",
       "      <td>2022-01-01</td>\n",
       "    </tr>\n",
       "    <tr>\n",
       "      <th>2</th>\n",
       "      <td>Mercedes-Benz AMG SL 63 Base</td>\n",
       "      <td>4890</td>\n",
       "      <td>4.7</td>\n",
       "      <td>1239.0</td>\n",
       "      <td>132999.0</td>\n",
       "      <td>2022-01-01</td>\n",
       "    </tr>\n",
       "    <tr>\n",
       "      <th>3</th>\n",
       "      <td>Mercedes-Benz AMG E 53 Base 4MATIC</td>\n",
       "      <td>29746</td>\n",
       "      <td>4.8</td>\n",
       "      <td>752.0</td>\n",
       "      <td>58587.0</td>\n",
       "      <td>2020-01-01</td>\n",
       "    </tr>\n",
       "    <tr>\n",
       "      <th>4</th>\n",
       "      <td>Mercedes-Benz AMG GLS 63 Base 4MATIC</td>\n",
       "      <td>32631</td>\n",
       "      <td>5.0</td>\n",
       "      <td>1502.0</td>\n",
       "      <td>95990.0</td>\n",
       "      <td>2021-01-01</td>\n",
       "    </tr>\n",
       "  </tbody>\n",
       "</table>\n",
       "</div>"
      ],
      "text/plain": [
       "                                   Name  Mileage (miles)  Rating  \\\n",
       "0    Mercedes-Benz A-Class A 220 4MATIC            29636     3.9   \n",
       "1          Mercedes-Benz AMG SL 63 Base             5540     4.7   \n",
       "2          Mercedes-Benz AMG SL 63 Base             4890     4.7   \n",
       "3    Mercedes-Benz AMG E 53 Base 4MATIC            29746     4.8   \n",
       "4  Mercedes-Benz AMG GLS 63 Base 4MATIC            32631     5.0   \n",
       "\n",
       "   Review Count  Price (US$) Model Year  \n",
       "0        1800.0      30900.0 2021-01-01  \n",
       "1        1239.0     139999.0 2022-01-01  \n",
       "2        1239.0     132999.0 2022-01-01  \n",
       "3         752.0      58587.0 2020-01-01  \n",
       "4        1502.0      95990.0 2021-01-01  "
      ]
     },
     "execution_count": 23,
     "metadata": {},
     "output_type": "execute_result"
    }
   ],
   "source": [
    "df.head()"
   ]
  },
  {
   "cell_type": "markdown",
   "id": "a46fd5ea",
   "metadata": {
    "papermill": {
     "duration": 0.01545,
     "end_time": "2024-05-20T09:35:40.203710",
     "exception": false,
     "start_time": "2024-05-20T09:35:40.188260",
     "status": "completed"
    },
    "tags": []
   },
   "source": [
    "## Check Numerical data Statistical Values:¶¶\n",
    "df.describe() provides a concise statistical summary of the numerical columns in a DataFrame."
   ]
  },
  {
   "cell_type": "code",
   "execution_count": 24,
   "id": "7c1349f8",
   "metadata": {
    "execution": {
     "iopub.execute_input": "2024-05-20T09:35:40.238668Z",
     "iopub.status.busy": "2024-05-20T09:35:40.237815Z",
     "iopub.status.idle": "2024-05-20T09:35:40.270845Z",
     "shell.execute_reply": "2024-05-20T09:35:40.269474Z"
    },
    "papermill": {
     "duration": 0.054034,
     "end_time": "2024-05-20T09:35:40.273604",
     "exception": false,
     "start_time": "2024-05-20T09:35:40.219570",
     "status": "completed"
    },
    "tags": []
   },
   "outputs": [
    {
     "data": {
      "text/html": [
       "<div>\n",
       "<style scoped>\n",
       "    .dataframe tbody tr th:only-of-type {\n",
       "        vertical-align: middle;\n",
       "    }\n",
       "\n",
       "    .dataframe tbody tr th {\n",
       "        vertical-align: top;\n",
       "    }\n",
       "\n",
       "    .dataframe thead th {\n",
       "        text-align: right;\n",
       "    }\n",
       "</style>\n",
       "<table border=\"1\" class=\"dataframe\">\n",
       "  <thead>\n",
       "    <tr style=\"text-align: right;\">\n",
       "      <th></th>\n",
       "      <th>Mileage (miles)</th>\n",
       "      <th>Rating</th>\n",
       "      <th>Review Count</th>\n",
       "      <th>Price (US$)</th>\n",
       "      <th>Model Year</th>\n",
       "    </tr>\n",
       "  </thead>\n",
       "  <tbody>\n",
       "    <tr>\n",
       "      <th>count</th>\n",
       "      <td>2429.000000</td>\n",
       "      <td>2135.000000</td>\n",
       "      <td>2398.000000</td>\n",
       "      <td>2428.000000</td>\n",
       "      <td>2429</td>\n",
       "    </tr>\n",
       "    <tr>\n",
       "      <th>mean</th>\n",
       "      <td>20075.742692</td>\n",
       "      <td>4.533724</td>\n",
       "      <td>1267.143036</td>\n",
       "      <td>55994.378501</td>\n",
       "      <td>2021-10-09 01:55:36.187731712</td>\n",
       "    </tr>\n",
       "    <tr>\n",
       "      <th>min</th>\n",
       "      <td>100.000000</td>\n",
       "      <td>2.100000</td>\n",
       "      <td>0.000000</td>\n",
       "      <td>8999.000000</td>\n",
       "      <td>2014-01-01 00:00:00</td>\n",
       "    </tr>\n",
       "    <tr>\n",
       "      <th>25%</th>\n",
       "      <td>5845.000000</td>\n",
       "      <td>4.400000</td>\n",
       "      <td>344.000000</td>\n",
       "      <td>38000.000000</td>\n",
       "      <td>2021-01-01 00:00:00</td>\n",
       "    </tr>\n",
       "    <tr>\n",
       "      <th>50%</th>\n",
       "      <td>14013.000000</td>\n",
       "      <td>4.600000</td>\n",
       "      <td>919.000000</td>\n",
       "      <td>46925.500000</td>\n",
       "      <td>2022-01-01 00:00:00</td>\n",
       "    </tr>\n",
       "    <tr>\n",
       "      <th>75%</th>\n",
       "      <td>31191.000000</td>\n",
       "      <td>4.800000</td>\n",
       "      <td>1800.000000</td>\n",
       "      <td>62440.750000</td>\n",
       "      <td>2023-01-01 00:00:00</td>\n",
       "    </tr>\n",
       "    <tr>\n",
       "      <th>max</th>\n",
       "      <td>194043.000000</td>\n",
       "      <td>5.000000</td>\n",
       "      <td>7140.000000</td>\n",
       "      <td>229918.000000</td>\n",
       "      <td>2024-01-01 00:00:00</td>\n",
       "    </tr>\n",
       "    <tr>\n",
       "      <th>std</th>\n",
       "      <td>17800.944138</td>\n",
       "      <td>0.386506</td>\n",
       "      <td>1261.300025</td>\n",
       "      <td>31402.041807</td>\n",
       "      <td>NaN</td>\n",
       "    </tr>\n",
       "  </tbody>\n",
       "</table>\n",
       "</div>"
      ],
      "text/plain": [
       "       Mileage (miles)       Rating  Review Count    Price (US$)  \\\n",
       "count      2429.000000  2135.000000   2398.000000    2428.000000   \n",
       "mean      20075.742692     4.533724   1267.143036   55994.378501   \n",
       "min         100.000000     2.100000      0.000000    8999.000000   \n",
       "25%        5845.000000     4.400000    344.000000   38000.000000   \n",
       "50%       14013.000000     4.600000    919.000000   46925.500000   \n",
       "75%       31191.000000     4.800000   1800.000000   62440.750000   \n",
       "max      194043.000000     5.000000   7140.000000  229918.000000   \n",
       "std       17800.944138     0.386506   1261.300025   31402.041807   \n",
       "\n",
       "                          Model Year  \n",
       "count                           2429  \n",
       "mean   2021-10-09 01:55:36.187731712  \n",
       "min              2014-01-01 00:00:00  \n",
       "25%              2021-01-01 00:00:00  \n",
       "50%              2022-01-01 00:00:00  \n",
       "75%              2023-01-01 00:00:00  \n",
       "max              2024-01-01 00:00:00  \n",
       "std                              NaN  "
      ]
     },
     "execution_count": 24,
     "metadata": {},
     "output_type": "execute_result"
    }
   ],
   "source": [
    "df.describe()"
   ]
  },
  {
   "cell_type": "markdown",
   "id": "172e3a21",
   "metadata": {
    "papermill": {
     "duration": 0.015499,
     "end_time": "2024-05-20T09:35:40.305826",
     "exception": false,
     "start_time": "2024-05-20T09:35:40.290327",
     "status": "completed"
    },
    "tags": []
   },
   "source": [
    "## Data Visualization:¶\n",
    "Data visualization uses charts, graphs, and maps to represent data visually, making complex information easier to understand and analyze."
   ]
  },
  {
   "cell_type": "code",
   "execution_count": 25,
   "id": "c7525cd7",
   "metadata": {
    "execution": {
     "iopub.execute_input": "2024-05-20T09:35:40.400492Z",
     "iopub.status.busy": "2024-05-20T09:35:40.400102Z",
     "iopub.status.idle": "2024-05-20T09:35:44.168718Z",
     "shell.execute_reply": "2024-05-20T09:35:44.167567Z"
    },
    "papermill": {
     "duration": 3.850303,
     "end_time": "2024-05-20T09:35:44.171724",
     "exception": false,
     "start_time": "2024-05-20T09:35:40.321421",
     "status": "completed"
    },
    "tags": []
   },
   "outputs": [
    {
     "name": "stderr",
     "output_type": "stream",
     "text": [
      "/tmp/ipykernel_18/4066445605.py:2: FutureWarning: use_inf_as_na option is deprecated and will be removed in a future version. Convert inf values to NaN before operating instead.\n",
      "  pd.set_option('mode.use_inf_as_na', True)\n",
      "/opt/conda/lib/python3.10/site-packages/seaborn/_oldcore.py:1119: FutureWarning: use_inf_as_na option is deprecated and will be removed in a future version. Convert inf values to NaN before operating instead.\n",
      "  with pd.option_context('mode.use_inf_as_na', True):\n",
      "/opt/conda/lib/python3.10/site-packages/seaborn/_oldcore.py:1119: FutureWarning: use_inf_as_na option is deprecated and will be removed in a future version. Convert inf values to NaN before operating instead.\n",
      "  with pd.option_context('mode.use_inf_as_na', True):\n",
      "/opt/conda/lib/python3.10/site-packages/seaborn/_oldcore.py:1119: FutureWarning: use_inf_as_na option is deprecated and will be removed in a future version. Convert inf values to NaN before operating instead.\n",
      "  with pd.option_context('mode.use_inf_as_na', True):\n",
      "/opt/conda/lib/python3.10/site-packages/seaborn/_oldcore.py:1119: FutureWarning: use_inf_as_na option is deprecated and will be removed in a future version. Convert inf values to NaN before operating instead.\n",
      "  with pd.option_context('mode.use_inf_as_na', True):\n"
     ]
    },
    {
     "data": {
      "image/png": "[encoded data removed]",
      "text/plain": [
       "<Figure size 1200x600 with 4 Axes>"
      ]
     },
     "metadata": {},
     "output_type": "display_data"
    },
    {
     "data": {
      "image/png": "[encoded data removed]",
      "text/plain": [
       "<Figure size 1200x600 with 2 Axes>"
      ]
     },
     "metadata": {},
     "output_type": "display_data"
    },
    {
     "name": "stderr",
     "output_type": "stream",
     "text": [
      "/opt/conda/lib/python3.10/site-packages/seaborn/_oldcore.py:1765: FutureWarning: unique with argument that is not not a Series, Index, ExtensionArray, or np.ndarray is deprecated and will raise in a future version.\n",
      "  order = pd.unique(vector)\n",
      "/opt/conda/lib/python3.10/site-packages/seaborn/_oldcore.py:1765: FutureWarning: unique with argument that is not not a Series, Index, ExtensionArray, or np.ndarray is deprecated and will raise in a future version.\n",
      "  order = pd.unique(vector)\n"
     ]
    },
    {
     "data": {
      "image/png": "[encoded data removed]",
      "text/plain": [
       "<Figure size 800x600 with 1 Axes>"
      ]
     },
     "metadata": {},
     "output_type": "display_data"
    },
    {
     "data": {
      "image/png": "[encoded data removed]",
      "text/plain": [
       "<Figure size 1000x600 with 1 Axes>"
      ]
     },
     "metadata": {},
     "output_type": "display_data"
    }
   ],
   "source": [
    "# Suppress FutureWarning about use_inf_as_na\n",
    "pd.set_option('mode.use_inf_as_na', True)\n",
    "# Histograms\n",
    "plt.figure(figsize=(12, 6))\n",
    "plt.subplot(2, 2, 1)\n",
    "sns.histplot(df['Mileage (miles)'], kde=True, color='skyblue')\n",
    "plt.title('Distribution of etc')\n",
    "\n",
    "plt.subplot(2, 2, 2)\n",
    "sns.histplot(df['Rating'], kde=True, color='orange')\n",
    "plt.title('Distribution of Rating')\n",
    "\n",
    "plt.subplot(2, 2, 3)\n",
    "sns.histplot(df['Review Count'], kde=True, color='green')\n",
    "plt.title('Distribution of Review Count')\n",
    "\n",
    "plt.subplot(2, 2, 4)\n",
    "sns.histplot(df['Price (US$)'], kde=True, color='red')\n",
    "plt.title('Distribution of Price')\n",
    "\n",
    "plt.tight_layout()\n",
    "plt.show()\n",
    "\n",
    "# Box Plots\n",
    "plt.figure(figsize=(12, 6))\n",
    "plt.subplot(1, 2, 1)\n",
    "sns.boxplot(y='Mileage (miles)', data=df, color='skyblue')\n",
    "plt.title('Box Plot of etc')\n",
    "\n",
    "plt.subplot(1, 2, 2)\n",
    "sns.boxplot(y='Price (US$)', data=df, color='red')\n",
    "plt.title('Box Plot of Price')\n",
    "\n",
    "plt.tight_layout()\n",
    "plt.show()\n",
    "\n",
    "# Scatter Plot\n",
    "plt.figure(figsize=(8, 6))\n",
    "sns.scatterplot(x='Mileage (miles)', y='Price (US$)', data=df, hue='Model Year')\n",
    "plt.title('Scatter Plot of etc vs Price')\n",
    "plt.show()\n",
    "\n",
    "# Bar Plot\n",
    "plt.figure(figsize=(10, 6))\n",
    "sns.countplot(y='Model Year', data=df, palette='viridis')\n",
    "plt.title('Count of Cars by Model Year')\n",
    "plt.xlabel('Count')\n",
    "plt.ylabel('Model Year')\n",
    "plt.show()"
   ]
  },
  {
   "cell_type": "markdown",
   "id": "32055422",
   "metadata": {
    "papermill": {
     "duration": 0.024448,
     "end_time": "2024-05-20T09:35:44.218401",
     "exception": false,
     "start_time": "2024-05-20T09:35:44.193953",
     "status": "completed"
    },
    "tags": []
   },
   "source": [
    "## Client's Requirements :(hypothetical scenario)¶"
   ]
  },
  {
   "cell_type": "code",
   "execution_count": 26,
   "id": "10bec1b5",
   "metadata": {
    "execution": {
     "iopub.execute_input": "2024-05-20T09:35:44.265334Z",
     "iopub.status.busy": "2024-05-20T09:35:44.264942Z",
     "iopub.status.idle": "2024-05-20T09:35:44.273993Z",
     "shell.execute_reply": "2024-05-20T09:35:44.272714Z"
    },
    "papermill": {
     "duration": 0.036134,
     "end_time": "2024-05-20T09:35:44.277083",
     "exception": false,
     "start_time": "2024-05-20T09:35:44.240949",
     "status": "completed"
    },
    "tags": []
   },
   "outputs": [
    {
     "name": "stdout",
     "output_type": "stream",
     "text": [
      "Name               Mercedes-Benz C-Class C 300 4MATIC\n",
      "Mileage (miles)                                   100\n",
      "Rating                                            4.7\n",
      "Review Count                                   2308.0\n",
      "Price (US$)                                   49777.0\n",
      "Model Year                        2024-01-01 00:00:00\n",
      "Name: 1261, dtype: object\n"
     ]
    }
   ],
   "source": [
    "# Find the row with the lowest mileage\n",
    "lowest_mileage_index = df['Mileage (miles)'].idxmin()\n",
    "lowest_mileage_car = df.loc[lowest_mileage_index]\n",
    "\n",
    "# Display the car with the lowest mileage\n",
    "print(lowest_mileage_car)\n",
    "#This code finds and prints the details of the car with the lowest mileage in a DataFrame."
   ]
  },
  {
   "cell_type": "code",
   "execution_count": 27,
   "id": "a1ea5801",
   "metadata": {
    "execution": {
     "iopub.execute_input": "2024-05-20T09:35:44.323816Z",
     "iopub.status.busy": "2024-05-20T09:35:44.323067Z",
     "iopub.status.idle": "2024-05-20T09:35:44.331370Z",
     "shell.execute_reply": "2024-05-20T09:35:44.329833Z"
    },
    "papermill": {
     "duration": 0.034832,
     "end_time": "2024-05-20T09:35:44.334188",
     "exception": false,
     "start_time": "2024-05-20T09:35:44.299356",
     "status": "completed"
    },
    "tags": []
   },
   "outputs": [
    {
     "name": "stdout",
     "output_type": "stream",
     "text": [
      "Name               Mercedes-Benz Metris Base\n",
      "Mileage (miles)                       194043\n",
      "Rating                                   4.3\n",
      "Review Count                          1491.0\n",
      "Price (US$)                           8999.0\n",
      "Model Year               2017-01-01 00:00:00\n",
      "Name: 526, dtype: object\n"
     ]
    }
   ],
   "source": [
    "# Find the row with the lowest mileage\n",
    "highest_mileage_index = df['Mileage (miles)'].idxmax()\n",
    "highest_mileage_car = df.loc[highest_mileage_index]\n",
    "\n",
    "# Display the car with the lowest mileage\n",
    "print(highest_mileage_car)"
   ]
  },
  {
   "cell_type": "code",
   "execution_count": 28,
   "id": "d3c2de10",
   "metadata": {
    "execution": {
     "iopub.execute_input": "2024-05-20T09:35:44.381016Z",
     "iopub.status.busy": "2024-05-20T09:35:44.380635Z",
     "iopub.status.idle": "2024-05-20T09:35:44.388051Z",
     "shell.execute_reply": "2024-05-20T09:35:44.386950Z"
    },
    "papermill": {
     "duration": 0.034178,
     "end_time": "2024-05-20T09:35:44.390570",
     "exception": false,
     "start_time": "2024-05-20T09:35:44.356392",
     "status": "completed"
    },
    "tags": []
   },
   "outputs": [
    {
     "name": "stdout",
     "output_type": "stream",
     "text": [
      "Name               Mercedes-Benz AMG G 63 4MATIC\n",
      "Mileage (miles)                             1777\n",
      "Rating                                       4.4\n",
      "Review Count                              1038.0\n",
      "Price (US$)                             229918.0\n",
      "Model Year                   2023-01-01 00:00:00\n",
      "Name: 2395, dtype: object\n"
     ]
    }
   ],
   "source": [
    "# Find the row with the highest price\n",
    "highest_price_index = df['Price (US$)'].idxmax()\n",
    "highest_price_car = df.loc[highest_price_index]\n",
    "\n",
    "# Display the car with the highest price\n",
    "print(highest_price_car)"
   ]
  },
  {
   "cell_type": "code",
   "execution_count": 29,
   "id": "b6cff081",
   "metadata": {
    "execution": {
     "iopub.execute_input": "2024-05-20T09:35:44.440419Z",
     "iopub.status.busy": "2024-05-20T09:35:44.438856Z",
     "iopub.status.idle": "2024-05-20T09:35:44.447077Z",
     "shell.execute_reply": "2024-05-20T09:35:44.445693Z"
    },
    "papermill": {
     "duration": 0.035699,
     "end_time": "2024-05-20T09:35:44.449737",
     "exception": false,
     "start_time": "2024-05-20T09:35:44.414038",
     "status": "completed"
    },
    "tags": []
   },
   "outputs": [
    {
     "name": "stdout",
     "output_type": "stream",
     "text": [
      "Name               Mercedes-Benz Metris Base\n",
      "Mileage (miles)                       194043\n",
      "Rating                                   4.3\n",
      "Review Count                          1491.0\n",
      "Price (US$)                           8999.0\n",
      "Model Year               2017-01-01 00:00:00\n",
      "Name: 526, dtype: object\n"
     ]
    }
   ],
   "source": [
    "# Find the row with the lowest price\n",
    "lowest_price_index = df['Price (US$)'].idxmin()\n",
    "lowest_price_car = df.loc[lowest_price_index]\n",
    "\n",
    "# Display the car with the lowest price\n",
    "print(lowest_price_car)"
   ]
  },
  {
   "cell_type": "markdown",
   "id": "fd9f90be",
   "metadata": {
    "papermill": {
     "duration": 0.022071,
     "end_time": "2024-05-20T09:35:44.496448",
     "exception": false,
     "start_time": "2024-05-20T09:35:44.474377",
     "status": "completed"
    },
    "tags": []
   },
   "source": [
    "## Conclusion:"
   ]
  },
  {
   "cell_type": "markdown",
   "id": "c7caa780",
   "metadata": {
    "papermill": {
     "duration": 0.022114,
     "end_time": "2024-05-20T09:35:44.539943",
     "exception": false,
     "start_time": "2024-05-20T09:35:44.517829",
     "status": "completed"
    },
    "tags": []
   },
   "source": [
    "By the end of this notebook, I discovered that the dataset contains information on Mercedes-Benz cars in the USA:\n",
    "\n",
    "Mileage (miles): The average mileage of the cars is around 20,076 miles, with the lowest being 100 miles and the highest 194,043 miles. The mileage varies widely, with an average difference from the mean of 17,801 miles.\n",
    "\n",
    "Rating: The average rating of the cars is 4.53 out of 5, ranging from 2.1 to 5.0. Most cars have a high rating above 4.\n",
    "\n",
    "Review Count: The average number of reviews for the cars is about 1,267, with the lowest being 0 reviews and the highest 7,140 reviews. The number of reviews varies greatly among the cars, with an average difference from the mean of 1,261.\n",
    "\n",
    "-Price (US): The average price of the cars is  55,994,ranging from\n",
    " 8,999 to  229,918.The prices show considerable variation,with an average difference from the mean of 31,402.\n",
    "\n",
    "These statistics provide insights into the distribution and range of mileage, rating, review count, and price for Mercedes-Benz cars in the dataset."
   ]
  }
 ],
 "metadata": {
  "kaggle": {
   "accelerator": "none",
   "dataSources": [
    {
     "datasetId": 5046598,
     "sourceId": 8464982,
     "sourceType": "datasetVersion"
    }
   ],
   "dockerImageVersionId": 30698,
   "isGpuEnabled": false,
   "isInternetEnabled": true,
   "language": "python",
   "sourceType": "notebook"
  },
  "kernelspec": {
   "display_name": "Python 3",
   "language": "python",
   "name": "python3"
  },
  "language_info": {
   "codemirror_mode": {
    "name": "ipython",
    "version": 3
   },
   "file_extension": ".py",
   "mimetype": "text/x-python",
   "name": "python",
   "nbconvert_exporter": "python",
   "pygments_lexer": "ipython3",
   "version": "3.10.13"
  },
  "papermill": {
   "default_parameters": {},
   "duration": 12.204286,
   "end_time": "2024-05-20T09:35:45.284165",
   "environment_variables": {},
   "exception": null,
   "input_path": "__notebook__.ipynb",
   "output_path": "__notebook__.ipynb",
   "parameters": {},
   "start_time": "2024-05-20T09:35:33.079879",
   "version": "2.5.0"
  }
 },
 "nbformat": 4,
 "nbformat_minor": 5
}
